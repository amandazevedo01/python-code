{
 "cells": [
  {
   "cell_type": "markdown",
   "metadata": {},
   "source": [
    "# Prática - Banco de Dados com SQLite\n",
    "Ao final desse módulo, você estará apto a:\n",
    "\n",
    "* Conectar um banco de dados;\n",
    "* Criar e manipular tabelas;\n",
    "* Selecionar informações no banco de dados;\n",
    "* Utilização de operadores de comparação, lógicos e aritméticos;\n",
    "* Agrupar informações via SQL;\n",
    "* Relacionar tabelas entre tabelas.\n",
    "\n",
    "## 1. Primeiros passos\n",
    "Aprenda a conectar o SQLite com python e teste alguns comandos básicos.\n",
    "\n",
    "### Criando o primeiro banco de dados"
   ]
  },
  {
   "cell_type": "code",
   "execution_count": 20,
   "metadata": {},
   "outputs": [],
   "source": [
    "import sqlite3\n",
    "# Conectando um banco de dados\n",
    "#banco = sqlite3.connect(':memory:')\n",
    "banco = sqlite3.connect('empresa.db')"
   ]
  },
  {
   "cell_type": "markdown",
   "metadata": {},
   "source": [
    "* Um **cursor** é como um identificador de arquivo que podemos usar para executar operações nos dados armazenados no banco de dados. \n",
    "* Chamar cursor() é muito semelhante conceitualmente a chamar open() ao lidar com arquivos de texto. \n",
    "* Uma vez que temos o cursor, podemos começar a executar comandos no conteúdo do banco de dados usando o método execute()."
   ]
  },
  {
   "cell_type": "code",
   "execution_count": 21,
   "metadata": {},
   "outputs": [],
   "source": [
    "# Criando um cursor para operar comandos SQL\n",
    "cursor = banco.cursor()"
   ]
  },
  {
   "cell_type": "markdown",
   "metadata": {},
   "source": [
    "### Criando e preenchendo uma tabela"
   ]
  },
  {
   "cell_type": "code",
   "execution_count": 22,
   "metadata": {},
   "outputs": [],
   "source": [
    "# Criando uma tabela 'estudantes' com as campos nomeEstudante, idade, email\n",
    "cursor.execute(\"CREATE TABLE estudantes (idEstudante integer, nomeEstudante text, idade integer, email text, idDepartamento integer)\")\n",
    "# Inserindo dados na tabela\n",
    "cursor.execute(\"INSERT INTO estudantes VALUES(1, 'Maria', 40,'mariadosanjos@mentorama.com',2)\")\n",
    "banco.commit()"
   ]
  },
  {
   "cell_type": "markdown",
   "metadata": {},
   "source": [
    "### Consultando dados"
   ]
  },
  {
   "cell_type": "code",
   "execution_count": 23,
   "metadata": {},
   "outputs": [
    {
     "name": "stdout",
     "output_type": "stream",
     "text": [
      "[(1, 'Maria', 40, 'mariadosanjos@mentorama.com', 2)]\n"
     ]
    }
   ],
   "source": [
    "# Consulta dados da tabela 'estudantes'\n",
    "cursor.execute(\"SELECT * FROM estudantes\")\n",
    "print (cursor.fetchall())"
   ]
  },
  {
   "cell_type": "markdown",
   "metadata": {},
   "source": [
    "## 2. Manipulando dados com SQLite\n",
    "Nesta etapa iremos avançar um pouco mais nas operações SQL, a fim de manipular os dados das nossas tabelas\n",
    "\n",
    "### Inserindo n dados em uma tabela\n",
    "Inserir vários dados a partir de uma lista, pode econonomizar bastante tempo ao automatizar o processo de "
   ]
  },
  {
   "cell_type": "code",
   "execution_count": 24,
   "metadata": {},
   "outputs": [],
   "source": [
    "# Primeiro criamos uma lista com conteúdo a ser inserido, na mesma ordem dos tipos de dados definidos\n",
    "listaestudantes = [('2','Felipe', '18', 'felipe@mentorama.com','1'),\n",
    "         ('3','Maria', '45', 'maria@mentorama.com','4'),\n",
    "         ('4','João', '33', 'joao@mentorama.com','4'),\n",
    "         ('5','Lucia', '17', 'lucia@mentorama.com','2'),\n",
    "         ('6','Pedro','32','pedro@mentorama.com','NULL'),\n",
    "         ('7','Izabela', '23','izabela@mentorama.com','3'),\n",
    "         ('8','Eduardo', '59', 'eduardo@mentorama.com','4'),\n",
    "         ('9','Tiago', '38', 'tiago@mentorama.com','5'),\n",
    "         ('10','Ana', '25', 'ana@mentorama.com','NULL'),\n",
    "         ('11','Carol','36','carol@mentorama.com','2'),\n",
    "         ('12','Leonardo', '28','leonardo@mentorama.com','3'),\n",
    "         ('13','Vanessa', '45', 'vanessa@mentorama.com','4'),\n",
    "         ('14','João', '43', 'joaopedro@mentorama.com','5'),\n",
    "         ('15','Mari', '25', 'mari@mentorama.com','6')]"
   ]
  },
  {
   "cell_type": "code",
   "execution_count": 25,
   "metadata": {},
   "outputs": [
    {
     "name": "stdout",
     "output_type": "stream",
     "text": [
      "Dados inseridos com sucesso!\n"
     ]
    }
   ],
   "source": [
    "# Inserimos os dados da lista dentro da tabela\n",
    "cursor.executemany(\"\"\"INSERT INTO estudantes VALUES (?,?,?,?,?)\"\"\", listaestudantes)\n",
    "print (\"Dados inseridos com sucesso!\")\n",
    "banco.commit()"
   ]
  },
  {
   "cell_type": "code",
   "execution_count": 26,
   "metadata": {},
   "outputs": [
    {
     "name": "stdout",
     "output_type": "stream",
     "text": [
      "[(1, 'Maria', 40, 'mariadosanjos@mentorama.com', 2), (2, 'Felipe', 18, 'felipe@mentorama.com', 1), (3, 'Maria', 45, 'maria@mentorama.com', 4), (4, 'João', 33, 'joao@mentorama.com', 4), (5, 'Lucia', 17, 'lucia@mentorama.com', 2), (6, 'Pedro', 32, 'pedro@mentorama.com', 'NULL'), (7, 'Izabela', 23, 'izabela@mentorama.com', 3), (8, 'Eduardo', 59, 'eduardo@mentorama.com', 4), (9, 'Tiago', 38, 'tiago@mentorama.com', 5), (10, 'Ana', 25, 'ana@mentorama.com', 'NULL'), (11, 'Carol', 36, 'carol@mentorama.com', 2), (12, 'Leonardo', 28, 'leonardo@mentorama.com', 3), (13, 'Vanessa', 45, 'vanessa@mentorama.com', 4), (14, 'João', 43, 'joaopedro@mentorama.com', 5), (15, 'Mari', 25, 'mari@mentorama.com', 6)]\n",
      "Dados inseridos com sucesso!\n"
     ]
    }
   ],
   "source": [
    "# Consulta dados da tabela 'estudantes'\n",
    "cursor.execute(\"SELECT * FROM estudantes\")\n",
    "print (cursor.fetchall())\n",
    "print(\"Dados inseridos com sucesso!\")"
   ]
  },
  {
   "cell_type": "markdown",
   "metadata": {},
   "source": [
    "### Atualizando registros"
   ]
  },
  {
   "cell_type": "markdown",
   "metadata": {},
   "source": [
    "* Usamos o comando **UPDATE** do SQL para atualizar nossa tabela estudantes. Você pode usar SET para mudar um campo, neste caso mudamos o campo nome para “Diego”, para todo registro onde o campo nome era “Felipe”. \n",
    "* Vale lembrar que se você não confirmar as mudanças com o commit, suas mudanças não serão escritas no banco de dados e não terão efeito. "
   ]
  },
  {
   "cell_type": "code",
   "execution_count": 14,
   "metadata": {},
   "outputs": [
    {
     "name": "stdout",
     "output_type": "stream",
     "text": [
      "Registros atualizados com sucesso!\n"
     ]
    }
   ],
   "source": [
    "# Criamos o comando sql e depois executamos com o cursor\n",
    "sql = \"\"\"\n",
    "UPDATE estudantes\n",
    "SET nomeEstudante = 'Felipe'\n",
    "WHERE nomeEstudante = 'Diego'\n",
    "\"\"\"\n",
    "cursor.execute(sql)\n",
    "banco.commit()\n",
    "print(\"Registros atualizados com sucesso!\")"
   ]
  },
  {
   "cell_type": "code",
   "execution_count": 27,
   "metadata": {},
   "outputs": [
    {
     "name": "stdout",
     "output_type": "stream",
     "text": [
      "[(1, 'Maria', 40, 'mariadosanjos@mentorama.com', 2), (2, 'Felipe', 18, 'felipe@mentorama.com', 1), (3, 'Maria', 45, 'maria@mentorama.com', 4), (4, 'João', 33, 'joao@mentorama.com', 4), (5, 'Lucia', 17, 'lucia@mentorama.com', 2), (6, 'Pedro', 32, 'pedro@mentorama.com', 'NULL'), (7, 'Izabela', 23, 'izabela@mentorama.com', 3), (8, 'Eduardo', 59, 'eduardo@mentorama.com', 4), (9, 'Tiago', 38, 'tiago@mentorama.com', 5), (10, 'Ana', 25, 'ana@mentorama.com', 'NULL'), (11, 'Carol', 36, 'carol@mentorama.com', 2), (12, 'Leonardo', 28, 'leonardo@mentorama.com', 3), (13, 'Vanessa', 45, 'vanessa@mentorama.com', 4), (14, 'João', 43, 'joaopedro@mentorama.com', 5), (15, 'Mari', 25, 'mari@mentorama.com', 6)]\n"
     ]
    }
   ],
   "source": [
    "# Consulta dados da tabela 'estudantes'\n",
    "cursor.execute(\"SELECT * FROM estudantes\")\n",
    "print (cursor.fetchall())"
   ]
  },
  {
   "cell_type": "markdown",
   "metadata": {},
   "source": [
    "### Deletando registros\n",
    "Deletar também é fácil. Perceba que o sql só tem 2 linhas! Neste caso, tudo o que temos que fazer é dizer para o SQLite qual tabela (estudantes) e quais registros deletar, usando a cláusula WHERE. O comando do exemplo apaga todo e qualquer registro que tenha “Maria” no campo nome."
   ]
  },
  {
   "cell_type": "code",
   "execution_count": 16,
   "metadata": {},
   "outputs": [
    {
     "name": "stdout",
     "output_type": "stream",
     "text": [
      "Registros deletados com sucesso!\n"
     ]
    }
   ],
   "source": [
    "sql = \"\"\"\n",
    "DELETE FROM estudantes\n",
    "WHERE nomeEstudante = 'Maria'\n",
    "\"\"\"\n",
    "cursor.execute(sql)\n",
    "banco.commit()\n",
    "print(\"Registros deletados com sucesso!\")\n",
    "# http://pythonclub.com.br/gerenciando-banco-dados-sqlite3-python-parte2.html\n",
    "# https://support.zendesk.com/hc/pt-br/articles/203691016-Formata%C3%A7%C3%A3o-de-texto-com-Markdown#topic_xqx_mvc_43__row_ppv_wln_1n"
   ]
  },
  {
   "cell_type": "code",
   "execution_count": 17,
   "metadata": {},
   "outputs": [
    {
     "name": "stdout",
     "output_type": "stream",
     "text": [
      "[(2, 'Felipe', 18, 'felipe@mentorama.com', 1), (4, 'João', 33, 'joao@mentorama.com', 4), (5, 'Lucia', 17, 'lucia@mentorama.com', 2), (6, 'Pedro', 32, 'pedro@mentorama.com', 'NULL'), (7, 'Izabela', 23, 'izabela@mentorama.com', 3), (8, 'Eduardo', 59, 'eduardo@mentorama.com', 4), (9, 'Tiago', 38, 'tiago@mentorama.com', 5), (10, 'Ana', 25, 'ana@mentorama.com', 'NULL'), (11, 'Carol', 36, 'carol@mentorama.com', 2), (12, 'Leonardo', 28, 'leonardo@mentorama.com', 3), (13, 'Vanessa', 45, 'vanessa@mentorama.com', 4), (14, 'João', 43, 'joaopedro@mentorama.com', 5), (15, 'Mari', 25, 'mari@mentorama.com', 6)]\n"
     ]
    }
   ],
   "source": [
    "# Consulta dados da tabela 'estudantes'\n",
    "cursor.execute(\"SELECT * FROM estudantes\")\n",
    "print (cursor.fetchall())"
   ]
  },
  {
   "cell_type": "markdown",
   "metadata": {},
   "source": [
    "### Deletando uma tabela\n",
    "Muita atenção neste comando pois você pode perder todos os dados da sua tabela.\n"
   ]
  },
  {
   "cell_type": "code",
   "execution_count": 18,
   "metadata": {},
   "outputs": [
    {
     "name": "stdout",
     "output_type": "stream",
     "text": [
      "Tabela deletada com sucesso!\n"
     ]
    }
   ],
   "source": [
    "sql = \"\"\"\n",
    "DROP TABLE estudantes\n",
    "\"\"\"\n",
    "cursor.execute(sql)\n",
    "banco.commit()\n",
    "print(\"Tabela deletada com sucesso!\")"
   ]
  },
  {
   "cell_type": "code",
   "execution_count": 19,
   "metadata": {},
   "outputs": [
    {
     "ename": "OperationalError",
     "evalue": "no such table: estudantes",
     "output_type": "error",
     "traceback": [
      "\u001b[1;31m---------------------------------------------------------------------------\u001b[0m",
      "\u001b[1;31mOperationalError\u001b[0m                          Traceback (most recent call last)",
      "\u001b[1;32m<ipython-input-19-98776556d216>\u001b[0m in \u001b[0;36m<module>\u001b[1;34m\u001b[0m\n\u001b[0;32m      1\u001b[0m \u001b[1;31m# Consulta dados da tabela 'estudantes'\u001b[0m\u001b[1;33m\u001b[0m\u001b[1;33m\u001b[0m\u001b[1;33m\u001b[0m\u001b[0m\n\u001b[1;32m----> 2\u001b[1;33m \u001b[0mcursor\u001b[0m\u001b[1;33m.\u001b[0m\u001b[0mexecute\u001b[0m\u001b[1;33m(\u001b[0m\u001b[1;34m\"SELECT * FROM estudantes\"\u001b[0m\u001b[1;33m)\u001b[0m\u001b[1;33m\u001b[0m\u001b[1;33m\u001b[0m\u001b[0m\n\u001b[0m\u001b[0;32m      3\u001b[0m \u001b[0mprint\u001b[0m \u001b[1;33m(\u001b[0m\u001b[0mcursor\u001b[0m\u001b[1;33m.\u001b[0m\u001b[0mfetchall\u001b[0m\u001b[1;33m(\u001b[0m\u001b[1;33m)\u001b[0m\u001b[1;33m)\u001b[0m\u001b[1;33m\u001b[0m\u001b[1;33m\u001b[0m\u001b[0m\n",
      "\u001b[1;31mOperationalError\u001b[0m: no such table: estudantes"
     ]
    }
   ],
   "source": [
    "# Consulta dados da tabela 'estudantes'\n",
    "cursor.execute(\"SELECT * FROM estudantes\")\n",
    "print (cursor.fetchall())"
   ]
  },
  {
   "cell_type": "markdown",
   "metadata": {},
   "source": [
    "### WHERE\n",
    "O comando Select tem uma série de variações, a fim de manipular e filtrar bem a consulta. Veja como podemos trabalhar com o WHERE e outras variações. Vamos ver alguns exemplos:"
   ]
  },
  {
   "cell_type": "markdown",
   "metadata": {},
   "source": [
    "* Vamos selecionar dados da tabela estudantes onde a idade é especificada.\n",
    "* Observe que usar * indica que você deseja que o banco de dados retorne todas as colunas para cada linha que corresponda à cláusula WHERE."
   ]
  },
  {
   "cell_type": "code",
   "execution_count": 28,
   "metadata": {},
   "outputs": [
    {
     "name": "stdout",
     "output_type": "stream",
     "text": [
      "[(4, 'João', 33, 'joao@mentorama.com', 4)]\n"
     ]
    }
   ],
   "source": [
    "# Seleciona dados da tabela estudantes onde a idade é especificada \n",
    "cursor.execute(\"\"\"SELECT * FROM estudantes \n",
    "               WHERE idade = '33'\"\"\")\n",
    "print (cursor.fetchall())"
   ]
  },
  {
   "cell_type": "markdown",
   "metadata": {},
   "source": [
    "* Vamos selecionar dados da tabela estudantes onde o nome é especificado"
   ]
  },
  {
   "cell_type": "code",
   "execution_count": 30,
   "metadata": {},
   "outputs": [
    {
     "name": "stdout",
     "output_type": "stream",
     "text": [
      "[]\n"
     ]
    }
   ],
   "source": [
    "# Seleciona dados da tabela estudantes onde o nome é especificado \n",
    "cursor.execute(\"\"\"SELECT * FROM estudantes \n",
    "               WHERE nomeEstudante = 'Diego'\"\"\")\n",
    "print (cursor.fetchall())"
   ]
  },
  {
   "cell_type": "code",
   "execution_count": 31,
   "metadata": {},
   "outputs": [
    {
     "name": "stdout",
     "output_type": "stream",
     "text": [
      "[(1, 'Maria', 40, 'mariadosanjos@mentorama.com', 2), (2, 'Felipe', 18, 'felipe@mentorama.com', 1), (3, 'Maria', 45, 'maria@mentorama.com', 4), (4, 'João', 33, 'joao@mentorama.com', 4), (5, 'Lucia', 17, 'lucia@mentorama.com', 2), (6, 'Pedro', 32, 'pedro@mentorama.com', 'NULL'), (7, 'Izabela', 23, 'izabela@mentorama.com', 3), (8, 'Eduardo', 59, 'eduardo@mentorama.com', 4), (9, 'Tiago', 38, 'tiago@mentorama.com', 5), (10, 'Ana', 25, 'ana@mentorama.com', 'NULL'), (11, 'Carol', 36, 'carol@mentorama.com', 2), (12, 'Leonardo', 28, 'leonardo@mentorama.com', 3), (13, 'Vanessa', 45, 'vanessa@mentorama.com', 4), (14, 'João', 43, 'joaopedro@mentorama.com', 5), (15, 'Mari', 25, 'mari@mentorama.com', 6)]\n"
     ]
    }
   ],
   "source": [
    "# Consulta dados da tabela 'estudantes'\n",
    "cursor.execute(\"SELECT * FROM estudantes\")\n",
    "print (cursor.fetchall())"
   ]
  },
  {
   "cell_type": "markdown",
   "metadata": {},
   "source": [
    "### Operadores Lógicos AND, OR e NOT e Operadores de Comparação (>, <, >=,<=, ==) etc...\n",
    "A cláusula WHERE pode ser combinada com os operadores AND, OR e NOT.\n",
    "\n",
    "Os operadores AND e OR são usados para filtrar registros com base em mais de uma condição:\n",
    "\n",
    "* O operador AND exibe um registro se todas as condições separadas por AND forem verdadeiras.\n",
    "* O operador OR exibe um registro se alguma das condições separadas por OR for TRUE.\n",
    "* O operador NOT exibe um registro se as condições NÃO forem verdadeiras."
   ]
  },
  {
   "cell_type": "markdown",
   "metadata": {},
   "source": [
    "Vamos usar o operador **AND**\n",
    "* Vamos selecionar dados da tabela estudantes onde o nome e a idade são especificados "
   ]
  },
  {
   "cell_type": "code",
   "execution_count": 33,
   "metadata": {},
   "outputs": [
    {
     "name": "stdout",
     "output_type": "stream",
     "text": [
      "[]\n"
     ]
    }
   ],
   "source": [
    "# Seleciona dados da tabela estudantes onde o nome e a idade são especificados \n",
    "cursor.execute(\"SELECT * FROM estudantes WHERE nomeEstudante = 'Diego' AND idade = '18'\") \n",
    "# Teste também com Diego\n",
    "print (cursor.fetchall())"
   ]
  },
  {
   "cell_type": "markdown",
   "metadata": {},
   "source": [
    "Vamos usar o operador **OR**\n",
    "* Vamos selecionar dados da tabela estudantes onde queremos retornar os registros que tenham o nome Maria OU possuam idade = 18"
   ]
  },
  {
   "cell_type": "code",
   "execution_count": 39,
   "metadata": {
    "scrolled": true
   },
   "outputs": [
    {
     "name": "stdout",
     "output_type": "stream",
     "text": [
      "[(1, 'Maria', 40, 'mariadosanjos@mentorama.com', 2), (3, 'Maria', 45, 'maria@mentorama.com', 4)]\n"
     ]
    }
   ],
   "source": [
    "cursor.execute(\"SELECT * FROM estudantes WHERE nomeEstudante = 'Maria' OR idade = '18'\")\n",
    "print (cursor.fetchall())"
   ]
  },
  {
   "cell_type": "markdown",
   "metadata": {},
   "source": [
    "Vamos usar o operador **NOT**\n",
    "* Vamos selecionar dados da tabela estudantes e retornar todos os registros que não tenham o nome Maria ou que a idade seja = 18"
   ]
  },
  {
   "cell_type": "code",
   "execution_count": 41,
   "metadata": {
    "scrolled": true
   },
   "outputs": [
    {
     "name": "stdout",
     "output_type": "stream",
     "text": [
      "[(2, 'Felipe', 18, 'felipe@mentorama.com', 1), (4, 'João', 33, 'joao@mentorama.com', 4), (5, 'Lucia', 17, 'lucia@mentorama.com', 2), (6, 'Pedro', 32, 'pedro@mentorama.com', 'NULL'), (7, 'Izabela', 23, 'izabela@mentorama.com', 3), (8, 'Eduardo', 59, 'eduardo@mentorama.com', 4), (9, 'Tiago', 38, 'tiago@mentorama.com', 5), (10, 'Ana', 25, 'ana@mentorama.com', 'NULL'), (11, 'Carol', 36, 'carol@mentorama.com', 2), (12, 'Leonardo', 28, 'leonardo@mentorama.com', 3), (13, 'Vanessa', 45, 'vanessa@mentorama.com', 4), (14, 'João', 43, 'joaopedro@mentorama.com', 5), (15, 'Mari', 25, 'mari@mentorama.com', 6)]\n"
     ]
    }
   ],
   "source": [
    "cursor.execute(\"SELECT * FROM estudantes WHERE NOT nomeEstudante = 'Maria'OR idade = '18'\")\n",
    "print (cursor.fetchall())"
   ]
  },
  {
   "cell_type": "markdown",
   "metadata": {},
   "source": [
    "Vamos combinar os operados **NOT, AND, OR** com operadores de comparação **>**\n",
    "* Vamos selecionar dados da tabela estudantes e retornar todos os registros cujo nome não seja Maria E que a idade seja maior que 18"
   ]
  },
  {
   "cell_type": "code",
   "execution_count": 42,
   "metadata": {},
   "outputs": [
    {
     "name": "stdout",
     "output_type": "stream",
     "text": [
      "[(4, 'João', 33, 'joao@mentorama.com', 4), (6, 'Pedro', 32, 'pedro@mentorama.com', 'NULL'), (7, 'Izabela', 23, 'izabela@mentorama.com', 3), (8, 'Eduardo', 59, 'eduardo@mentorama.com', 4), (9, 'Tiago', 38, 'tiago@mentorama.com', 5), (10, 'Ana', 25, 'ana@mentorama.com', 'NULL'), (11, 'Carol', 36, 'carol@mentorama.com', 2), (12, 'Leonardo', 28, 'leonardo@mentorama.com', 3), (13, 'Vanessa', 45, 'vanessa@mentorama.com', 4), (14, 'João', 43, 'joaopedro@mentorama.com', 5), (15, 'Mari', 25, 'mari@mentorama.com', 6)]\n"
     ]
    }
   ],
   "source": [
    "cursor.execute(\"SELECT * FROM estudantes WHERE NOT nomeEstudante = 'Maria' AND idade > '18'\")\n",
    "print (cursor.fetchall())"
   ]
  },
  {
   "cell_type": "markdown",
   "metadata": {},
   "source": [
    "### ORDER BY\n",
    "Você pode solicitar que as linhas retornadas sejam ordenadas em ordem ascendente (**ASC**) ou decrescente (**DESC**), por um dos campos escolhidos, da seguinte maneira:"
   ]
  },
  {
   "cell_type": "code",
   "execution_count": 44,
   "metadata": {},
   "outputs": [
    {
     "name": "stdout",
     "output_type": "stream",
     "text": [
      "[('Lucia', 17), ('Felipe', 18), ('Izabela', 23), ('Ana', 25), ('Mari', 25), ('Leonardo', 28), ('Pedro', 32), ('João', 33), ('Carol', 36), ('Tiago', 38), ('Maria', 40), ('João', 43), ('Maria', 45), ('Vanessa', 45), ('Eduardo', 59)]\n"
     ]
    }
   ],
   "source": [
    "cursor.execute(\"SELECT nomeEstudante, idade FROM estudantes ORDER BY idade ASC\")\n",
    "print (cursor.fetchall())"
   ]
  },
  {
   "cell_type": "markdown",
   "metadata": {},
   "source": [
    "### GROUP BY\n",
    "\n",
    "Você pode solicitar que as linhas retornadas sejam classificadas por um dos campos escolhidos, da seguinte maneira:"
   ]
  },
  {
   "cell_type": "code",
   "execution_count": 45,
   "metadata": {},
   "outputs": [
    {
     "name": "stdout",
     "output_type": "stream",
     "text": [
      "[('Ana', 'NULL'), ('Carol', 2), ('Eduardo', 4), ('Felipe', 1), ('Izabela', 3), ('João', 4), ('Leonardo', 3), ('Lucia', 2), ('Mari', 6), ('Maria', 2), ('Pedro', 'NULL'), ('Tiago', 5), ('Vanessa', 4)]\n"
     ]
    }
   ],
   "source": [
    "cursor.execute(\"SELECT nomeEstudante, idDepartamento FROM estudantes GROUP BY nomeEstudante\")\n",
    "print (cursor.fetchall())"
   ]
  },
  {
   "cell_type": "markdown",
   "metadata": {},
   "source": [
    "### SELECT COUNT/AVG/SUM"
   ]
  },
  {
   "cell_type": "markdown",
   "metadata": {},
   "source": [
    "* A função **COUNT ()** retorna o número de linhas que correspondem a um critério especificado."
   ]
  },
  {
   "cell_type": "code",
   "execution_count": 48,
   "metadata": {},
   "outputs": [
    {
     "data": {
      "text/plain": [
       "[(1,)]"
      ]
     },
     "execution_count": 48,
     "metadata": {},
     "output_type": "execute_result"
    }
   ],
   "source": [
    "sql = \"\"\"SELECT COUNT(nomeEstudante)\n",
    "FROM estudantes\n",
    "WHERE nomeEstudante = 'Mari'\"\"\"\n",
    "cursor.execute(sql)\n",
    "cursor.fetchall()"
   ]
  },
  {
   "cell_type": "markdown",
   "metadata": {},
   "source": [
    "* A função **AVG ()** retorna o valor médio de uma coluna numérica."
   ]
  },
  {
   "cell_type": "code",
   "execution_count": 49,
   "metadata": {},
   "outputs": [
    {
     "data": {
      "text/plain": [
       "[(36.30769230769231,)]"
      ]
     },
     "execution_count": 49,
     "metadata": {},
     "output_type": "execute_result"
    }
   ],
   "source": [
    "sql = \"\"\"SELECT AVG(idade)\n",
    "FROM estudantes\n",
    "WHERE idade>'18'\"\"\"\n",
    "cursor.execute(sql)\n",
    "cursor.fetchall()"
   ]
  },
  {
   "cell_type": "markdown",
   "metadata": {},
   "source": [
    "* A função **SUM ()** retorna a soma total de uma coluna numérica."
   ]
  },
  {
   "cell_type": "code",
   "execution_count": 50,
   "metadata": {},
   "outputs": [
    {
     "data": {
      "text/plain": [
       "[(472,)]"
      ]
     },
     "execution_count": 50,
     "metadata": {},
     "output_type": "execute_result"
    }
   ],
   "source": [
    "sql = \"\"\"SELECT SUM(idade)\n",
    "FROM estudantes\n",
    "WHERE idade > '18'\"\"\"\n",
    "cursor.execute(sql)\n",
    "cursor.fetchall()"
   ]
  },
  {
   "cell_type": "markdown",
   "metadata": {},
   "source": [
    "### INNER JOIN, LEFT JOIN e RIGHT JOIN\n",
    "\n",
    "\n",
    "![INNER JOIN, LEFT JOIN e RIGHT JOIN](join.png)\n"
   ]
  },
  {
   "cell_type": "markdown",
   "metadata": {},
   "source": [
    "### INNER JOIN\n",
    "\n",
    "Primeiramente, vamos criar uma nova tabela chamada 'departamentos'. Através dessa tabela, iremos estabelecer uma relação com a tabela já criada 'estudantes'. Repare que nós temos o atributo **idDepartamento** em ambas as tabelas. Tal atributo nos ajudará a estabelecer relações entre as tabelas."
   ]
  },
  {
   "cell_type": "code",
   "execution_count": 51,
   "metadata": {
    "scrolled": true
   },
   "outputs": [
    {
     "name": "stdout",
     "output_type": "stream",
     "text": [
      "Tabela criada com sucesso!\n",
      "Dados inseridos com sucesso!\n"
     ]
    }
   ],
   "source": [
    "# Criando uma tabela 'departamentos' com as campos idDepartamento, nomeDepartamento\n",
    "cursor.execute(\"CREATE TABLE departamentos (idDepartamento integer PRIMARY KEY , nomeDepartamento text)\")\n",
    "print(\"Tabela criada com sucesso!\")\n",
    "# Inserindo dados na tabela\n",
    "# Primeiro criamos uma lista com conteúdo a ser inserido, na mesma ordem dos tipos de dados definidos\n",
    "listadepartamento = [('1','TI'),\n",
    "                     ('2','Fisica'),\n",
    "                     ('3','Matemática'),\n",
    "                     ('4','Engenharia'),\n",
    "                     ('5','Biologia'),\n",
    "                     ('6','História')]\n",
    "\n",
    "# Inserimos os dados da lista dentro da tabela\n",
    "cursor.executemany(\"\"\"INSERT INTO departamentos VALUES (?,?)\"\"\", listadepartamento)\n",
    "print(\"Dados inseridos com sucesso!\")\n",
    "banco.commit()"
   ]
  },
  {
   "cell_type": "code",
   "execution_count": null,
   "metadata": {},
   "outputs": [],
   "source": [
    "# Deleta tabela departamentos caso necessário\n",
    "cursor.execute(\"DROP TABLE departamentos\")\n",
    "print(\"Tabela deletada com sucesso!\")"
   ]
  },
  {
   "cell_type": "code",
   "execution_count": 52,
   "metadata": {},
   "outputs": [
    {
     "name": "stdout",
     "output_type": "stream",
     "text": [
      "[(1, 'TI'), (2, 'Fisica'), (3, 'Matemática'), (4, 'Engenharia'), (5, 'Biologia'), (6, 'História')]\n"
     ]
    }
   ],
   "source": [
    "# Consulta dados da tabela 'departamentos'\n",
    "cursor.execute(\"SELECT * FROM departamentos\")\n",
    "print (cursor.fetchall())"
   ]
  },
  {
   "cell_type": "markdown",
   "metadata": {},
   "source": [
    "* Neste comando iremos utilizar o **INNER JOIN** e nosso objetivo é selecionar os nomes de estudantes na tabela estudante e os seus respectivos nomes do departamento contidos na tabela departamento.\n",
    "* Na cláusula Select, você pode selecionar as colunas que deseja selecionar nas duas tabelas referenciadas.\n",
    "* A cláusula INNER JOIN é escrita após a primeira tabela referenciada com a cláusula \"From\".\n",
    "* Então, a condição de junção é especificada com ON.\n",
    "* A palavra INNER é opcional, você pode simplesmente escrever JOIN."
   ]
  },
  {
   "cell_type": "code",
   "execution_count": 53,
   "metadata": {},
   "outputs": [
    {
     "data": {
      "text/plain": [
       "[('Maria', 'Fisica'),\n",
       " ('Felipe', 'TI'),\n",
       " ('Maria', 'Engenharia'),\n",
       " ('João', 'Engenharia'),\n",
       " ('Lucia', 'Fisica'),\n",
       " ('Izabela', 'Matemática'),\n",
       " ('Eduardo', 'Engenharia'),\n",
       " ('Tiago', 'Biologia'),\n",
       " ('Carol', 'Fisica'),\n",
       " ('Leonardo', 'Matemática'),\n",
       " ('Vanessa', 'Engenharia'),\n",
       " ('João', 'Biologia'),\n",
       " ('Mari', 'História')]"
      ]
     },
     "execution_count": 53,
     "metadata": {},
     "output_type": "execute_result"
    }
   ],
   "source": [
    "#\n",
    "sql = \"\"\"SELECT\n",
    "  estudantes.nomeEstudante,\n",
    "  departamentos.nomeDepartamento\n",
    "FROM departamentos\n",
    "INNER JOIN estudantes ON estudantes.idDepartamento = departamentos.idDepartamento\"\"\"\n",
    "cursor.execute(sql)\n",
    "cursor.fetchall()\n",
    "\n",
    "#https://www.guru99.com/sqlite-join.html#:~:text=The%20INNER%20JOIN%20works%20as%20following%3A%201%20In,word%20is%20optional%2C%20you%20can%20just%20write%20JOIN."
   ]
  },
  {
   "cell_type": "markdown",
   "metadata": {},
   "source": [
    "### LEFT JOIN\n",
    "* A sintaxe de LEFT JOIN é igual ao INNER JOIN: você escreve LEFT JOIN entre as duas tabelas, e então a condição de junção vem depois da cláusula ON.\n",
    "* A primeira tabela após a cláusula from é a tabela à esquerda, enquanto a segunda tabela especificada após a junção à esquerda é a tabela à direita.\n",
    "* A cláusula OUTER é opcional: LEFT OUTER JOIN é igual a LEFT JOIN."
   ]
  },
  {
   "cell_type": "code",
   "execution_count": 54,
   "metadata": {},
   "outputs": [
    {
     "data": {
      "text/plain": [
       "[('Maria', 'Fisica'),\n",
       " ('Felipe', 'TI'),\n",
       " ('Maria', 'Engenharia'),\n",
       " ('João', 'Engenharia'),\n",
       " ('Lucia', 'Fisica'),\n",
       " ('Pedro', None),\n",
       " ('Izabela', 'Matemática'),\n",
       " ('Eduardo', 'Engenharia'),\n",
       " ('Tiago', 'Biologia'),\n",
       " ('Ana', None),\n",
       " ('Carol', 'Fisica'),\n",
       " ('Leonardo', 'Matemática'),\n",
       " ('Vanessa', 'Engenharia'),\n",
       " ('João', 'Biologia'),\n",
       " ('Mari', 'História')]"
      ]
     },
     "execution_count": 54,
     "metadata": {},
     "output_type": "execute_result"
    }
   ],
   "source": [
    "# Estudantes é a tabela da esquerda. \n",
    "# Repare a quantidade de registros gerada pela consulta. \n",
    "\n",
    "sql = \"\"\"SELECT\n",
    "  estudantes.nomeEstudante,\n",
    "  departamentos.nomeDepartamento\n",
    "FROM estudantes\n",
    "LEFT JOIN departamentos ON estudantes.idDepartamento = departamentos.idDepartamento\"\"\"\n",
    "cursor.execute(sql)\n",
    "cursor.fetchall()"
   ]
  },
  {
   "cell_type": "markdown",
   "metadata": {},
   "source": [
    "### CROSS JOIN\n",
    "* Um CROSS JOIN fornece o produto cartesiano para as colunas selecionadas das duas tabelas unidas, combinando todos os valores da primeira tabela com todos os valores da segunda tabela.\n",
    "\n",
    "* Portanto, para cada valor na primeira tabela, você obterá 'n' correspondências da segunda tabela, onde n é o número de linhas da segunda tabela.\n",
    "\n",
    "* Ao contrário de INNER JOIN e LEFT OUTER JOIN, com CROSS JOIN, você não precisa especificar uma condição de junção, porque o SQLite não precisa dela para CROSS JOIN."
   ]
  },
  {
   "cell_type": "code",
   "execution_count": 55,
   "metadata": {},
   "outputs": [
    {
     "data": {
      "text/plain": [
       "[('Maria', 'TI'),\n",
       " ('Maria', 'Fisica'),\n",
       " ('Maria', 'Matemática'),\n",
       " ('Maria', 'Engenharia'),\n",
       " ('Maria', 'Biologia'),\n",
       " ('Maria', 'História'),\n",
       " ('Felipe', 'TI'),\n",
       " ('Felipe', 'Fisica'),\n",
       " ('Felipe', 'Matemática'),\n",
       " ('Felipe', 'Engenharia'),\n",
       " ('Felipe', 'Biologia'),\n",
       " ('Felipe', 'História'),\n",
       " ('Maria', 'TI'),\n",
       " ('Maria', 'Fisica'),\n",
       " ('Maria', 'Matemática'),\n",
       " ('Maria', 'Engenharia'),\n",
       " ('Maria', 'Biologia'),\n",
       " ('Maria', 'História'),\n",
       " ('João', 'TI'),\n",
       " ('João', 'Fisica'),\n",
       " ('João', 'Matemática'),\n",
       " ('João', 'Engenharia'),\n",
       " ('João', 'Biologia'),\n",
       " ('João', 'História'),\n",
       " ('Lucia', 'TI'),\n",
       " ('Lucia', 'Fisica'),\n",
       " ('Lucia', 'Matemática'),\n",
       " ('Lucia', 'Engenharia'),\n",
       " ('Lucia', 'Biologia'),\n",
       " ('Lucia', 'História'),\n",
       " ('Pedro', 'TI'),\n",
       " ('Pedro', 'Fisica'),\n",
       " ('Pedro', 'Matemática'),\n",
       " ('Pedro', 'Engenharia'),\n",
       " ('Pedro', 'Biologia'),\n",
       " ('Pedro', 'História'),\n",
       " ('Izabela', 'TI'),\n",
       " ('Izabela', 'Fisica'),\n",
       " ('Izabela', 'Matemática'),\n",
       " ('Izabela', 'Engenharia'),\n",
       " ('Izabela', 'Biologia'),\n",
       " ('Izabela', 'História'),\n",
       " ('Eduardo', 'TI'),\n",
       " ('Eduardo', 'Fisica'),\n",
       " ('Eduardo', 'Matemática'),\n",
       " ('Eduardo', 'Engenharia'),\n",
       " ('Eduardo', 'Biologia'),\n",
       " ('Eduardo', 'História'),\n",
       " ('Tiago', 'TI'),\n",
       " ('Tiago', 'Fisica'),\n",
       " ('Tiago', 'Matemática'),\n",
       " ('Tiago', 'Engenharia'),\n",
       " ('Tiago', 'Biologia'),\n",
       " ('Tiago', 'História'),\n",
       " ('Ana', 'TI'),\n",
       " ('Ana', 'Fisica'),\n",
       " ('Ana', 'Matemática'),\n",
       " ('Ana', 'Engenharia'),\n",
       " ('Ana', 'Biologia'),\n",
       " ('Ana', 'História'),\n",
       " ('Carol', 'TI'),\n",
       " ('Carol', 'Fisica'),\n",
       " ('Carol', 'Matemática'),\n",
       " ('Carol', 'Engenharia'),\n",
       " ('Carol', 'Biologia'),\n",
       " ('Carol', 'História'),\n",
       " ('Leonardo', 'TI'),\n",
       " ('Leonardo', 'Fisica'),\n",
       " ('Leonardo', 'Matemática'),\n",
       " ('Leonardo', 'Engenharia'),\n",
       " ('Leonardo', 'Biologia'),\n",
       " ('Leonardo', 'História'),\n",
       " ('Vanessa', 'TI'),\n",
       " ('Vanessa', 'Fisica'),\n",
       " ('Vanessa', 'Matemática'),\n",
       " ('Vanessa', 'Engenharia'),\n",
       " ('Vanessa', 'Biologia'),\n",
       " ('Vanessa', 'História'),\n",
       " ('João', 'TI'),\n",
       " ('João', 'Fisica'),\n",
       " ('João', 'Matemática'),\n",
       " ('João', 'Engenharia'),\n",
       " ('João', 'Biologia'),\n",
       " ('João', 'História'),\n",
       " ('Mari', 'TI'),\n",
       " ('Mari', 'Fisica'),\n",
       " ('Mari', 'Matemática'),\n",
       " ('Mari', 'Engenharia'),\n",
       " ('Mari', 'Biologia'),\n",
       " ('Mari', 'História')]"
      ]
     },
     "execution_count": 55,
     "metadata": {},
     "output_type": "execute_result"
    }
   ],
   "source": [
    "sql = \"\"\"SELECT\n",
    "  estudantes.nomeEstudante,\n",
    "  departamentos.nomeDepartamento\n",
    "FROM estudantes\n",
    "CROSS JOIN departamentos\"\"\"\n",
    "cursor.execute(sql)\n",
    "cursor.fetchall()"
   ]
  },
  {
   "cell_type": "code",
   "execution_count": null,
   "metadata": {},
   "outputs": [],
   "source": []
  }
 ],
 "metadata": {
  "kernelspec": {
   "display_name": "Python 3",
   "language": "python",
   "name": "python3"
  },
  "language_info": {
   "codemirror_mode": {
    "name": "ipython",
    "version": 3
   },
   "file_extension": ".py",
   "mimetype": "text/x-python",
   "name": "python",
   "nbconvert_exporter": "python",
   "pygments_lexer": "ipython3",
   "version": "3.8.8"
  }
 },
 "nbformat": 4,
 "nbformat_minor": 4
}
