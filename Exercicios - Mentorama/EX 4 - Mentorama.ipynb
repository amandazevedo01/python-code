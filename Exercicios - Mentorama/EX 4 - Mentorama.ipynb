{
 "cells": [
  {
   "cell_type": "markdown",
   "id": "d4b72535",
   "metadata": {},
   "source": [
    "# ex 1"
   ]
  },
  {
   "cell_type": "code",
   "execution_count": null,
   "id": "ad7f5183",
   "metadata": {},
   "outputs": [],
   "source": [
    "# CRIANDO ARQUIVO\n",
    "ips = open('lista_de_ips.txt', 'w+')\n",
    "ips.write('200.135.80.9'\n",
    "                  '\\n192.168.1.1'\n",
    "                  '\\n8.35.67.74'\n",
    "                  '\\n257.32.4.5'\n",
    "                  '\\n85.345.1.2'\n",
    "                  '\\n1.2.3.4'\n",
    "                  '\\n9.8.234.5'\n",
    "                  '\\n192.168.0.256')\n",
    "ips.close()"
   ]
  },
  {
   "cell_type": "code",
   "execution_count": 13,
   "id": "09403231",
   "metadata": {},
   "outputs": [],
   "source": [
    "# Função para verificar se um IPv4 é valido:\n",
    "def validar_ip(ip_string):\n",
    "    partes = ip_string.split('.')\n",
    "    print(partes)\n",
    "    if len(partes) != 4:\n",
    "        return False\n",
    "    for parte in partes:\n",
    "        parte_inteira = int(parte)\n",
    "        if parte_inteira < 0 or parte_inteira > 255:\n",
    "            return False\n",
    "    return True\n"
   ]
  },
  {
   "cell_type": "code",
   "execution_count": 4,
   "id": "ae671c6c",
   "metadata": {},
   "outputs": [],
   "source": [
    "# Verificação dos ips e arquivo de saida:\n",
    "ips_validos = list()\n",
    "ips_invalidos = list()\n",
    "\n",
    "ips = open('lista_de_ips.txt', 'r')\n",
    "lista_ips = ips.read().split('\\n')\n",
    "\n",
    "for ip in lista_ips:\n",
    "    if validar_ip(ip) == True:\n",
    "        ips_validos.append(ip)\n",
    "    else:\n",
    "        ips_invalidos.append(ip)"
   ]
  },
  {
   "cell_type": "code",
   "execution_count": 14,
   "id": "fc202629",
   "metadata": {},
   "outputs": [
    {
     "data": {
      "text/plain": [
       "['257.32.4.5', '85.345.1.2', '192.168.0.256']"
      ]
     },
     "execution_count": 14,
     "metadata": {},
     "output_type": "execute_result"
    }
   ],
   "source": [
    "ips_invalidos"
   ]
  },
  {
   "cell_type": "code",
   "execution_count": 15,
   "id": "dc479107",
   "metadata": {},
   "outputs": [],
   "source": [
    "arquivo_saida = open('saida.txt', 'w+')\n",
    "arquivo_saida.write('[Enderecos validos]\\n')\n",
    "\n",
    "for valido in ips_validos:\n",
    "    arquivo_saida.write(valido + '\\n')\n",
    "arquivo_saida.write('\\n[Enderecos invalidos]\\n')\n",
    "\n",
    "for invalido in ips_invalidos:\n",
    "    arquivo_saida.write(invalido + '\\n')\n",
    "arquivo_saida.close()"
   ]
  },
  {
   "cell_type": "markdown",
   "id": "95d0b1ed",
   "metadata": {},
   "source": [
    "# 2"
   ]
  },
  {
   "cell_type": "markdown",
   "id": "b1f51ff8",
   "metadata": {},
   "source": [
    "a) Erro de Sintaxe:\n",
    "Um erro de sintaxe é um erro na estrutura do código Python q\n",
    "exemplo:\n",
    "Faltam aspas\n",
    "print(\"hellow World)\n",
    "\n",
    "b) Erro de tempo de execução:\n",
    "São as Exceções no python, quando o codigo esta escrito corretanemnte há algum erro diferente\n",
    "Como:\n",
    "- Divisao por zero\n",
    "- printar algo que nao foi definido, entre outros\n",
    "\n",
    "c) Erro Semantico:\n",
    "Quando o codigo esta escrito corretamente, mas a logica esta errada\n",
    "Como colocar um while e nao colocar um break\n",
    "Nao utilizar a identaçao corretamente\n"
   ]
  },
  {
   "cell_type": "code",
   "execution_count": 20,
   "id": "43d1f5ae",
   "metadata": {},
   "outputs": [
    {
     "name": "stdout",
     "output_type": "stream",
     "text": [
      "arquivo encontrado\n",
      "200.135.80.9\n",
      "192.168.1.1\n",
      "8.35.67.74\n",
      "257.32.4.5\n",
      "85.345.1.2\n",
      "1.2.3.4\n",
      "9.8.234.5\n",
      "192.168.0.256"
     ]
    }
   ],
   "source": [
    "\n",
    "# Tratando exceções FileNotFoundError\n",
    "try: \n",
    "    ips = open('lista_de_ips.txt','r')\n",
    "    print('arquivo encontrado')\n",
    "    for c in ips:\n",
    "        print(c,end='')\n",
    "except FileNotFoundError:\n",
    "    print(\"Arquivo não  encontrado\")\n",
    "except:\n",
    "    print(\"Ocorreu um erro!\")"
   ]
  },
  {
   "cell_type": "code",
   "execution_count": 48,
   "id": "05b98669",
   "metadata": {},
   "outputs": [
    {
     "name": "stdout",
     "output_type": "stream",
     "text": [
      "Digite o 1° valor? 3\n",
      "Digite o 2° valor? c\n",
      "O que deseja fazer ?\n",
      "              1 - Soma\n",
      "              2 - Subtração\n",
      "              3 - Multiplicação\n",
      "              4 - Divisão\n",
      "              \n",
      "              n\n",
      "Erro no 2 Valor! Favor digitar apenas numeros\n",
      "Erro no Menu! Favor digitar apenas numeros\n",
      "Programa finalizado!\n"
     ]
    }
   ],
   "source": [
    "try:\n",
    "    a = (input('Digite o 1° valor? '))\n",
    "    b = (input('Digite o 2° valor? '))\n",
    "    r = (input(\"\"\"O que deseja fazer ?\n",
    "              1 - Soma\n",
    "              2 - Subtração\n",
    "              3 - Multiplicação\n",
    "              4 - Divisão\n",
    "              \n",
    "              \"\"\"))\n",
    "    if r == 1:\n",
    "        print(a+b)\n",
    "    elif r == 2:\n",
    "        print(a-b)\n",
    "    elif r == 2:\n",
    "        print(a*b)\n",
    "    else:\n",
    "        print(a/b)\n",
    "      \n",
    "        \n",
    "except:\n",
    "    if a.isnumeric() == False:\n",
    "        print('Erro no 1 Valor! Favor digitar apenas numeros')\n",
    "    if b.isnumeric() == False:\n",
    "        print('Erro no 2 Valor! Favor digitar apenas numeros')\n",
    "    if r.isnumeric() == False:\n",
    "        print('Erro no Menu! Favor digitar apenas numeros')\n",
    "        \n",
    "else: \n",
    "    print(\"Erro nao detectado.Tente Novamente!\")  \n",
    "\n",
    "finally:\n",
    "    print(\"Programa finalizado!\")\n",
    "\n",
    "    \n"
   ]
  },
  {
   "cell_type": "code",
   "execution_count": null,
   "id": "a3fdfc97",
   "metadata": {},
   "outputs": [],
   "source": [
    "    "
   ]
  }
 ],
 "metadata": {
  "kernelspec": {
   "display_name": "Python 3",
   "language": "python",
   "name": "python3"
  },
  "language_info": {
   "codemirror_mode": {
    "name": "ipython",
    "version": 3
   },
   "file_extension": ".py",
   "mimetype": "text/x-python",
   "name": "python",
   "nbconvert_exporter": "python",
   "pygments_lexer": "ipython3",
   "version": "3.8.8"
  }
 },
 "nbformat": 4,
 "nbformat_minor": 5
}
