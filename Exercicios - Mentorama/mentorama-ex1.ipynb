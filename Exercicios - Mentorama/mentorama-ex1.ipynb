{
 "cells": [
  {
   "cell_type": "markdown",
   "id": "76e53721",
   "metadata": {},
   "source": [
    "# 1"
   ]
  },
  {
   "cell_type": "code",
   "execution_count": 1,
   "id": "cc2f26c8",
   "metadata": {},
   "outputs": [
    {
     "name": "stdout",
     "output_type": "stream",
     "text": [
      "Meu nome é Amanda Fogaça Azevedo\n"
     ]
    }
   ],
   "source": [
    "print('Meu nome é Amanda Fogaça Azevedo')"
   ]
  },
  {
   "cell_type": "markdown",
   "id": "6df8c84e",
   "metadata": {},
   "source": [
    "# 2"
   ]
  },
  {
   "cell_type": "code",
   "execution_count": 3,
   "id": "a62ac184",
   "metadata": {},
   "outputs": [
    {
     "name": "stdout",
     "output_type": "stream",
     "text": [
      "O resultado da equação 5a x 3b sendo que a é 2 e b é 5 é de 150 \n"
     ]
    }
   ],
   "source": [
    "a = 2\n",
    "b = 5\n",
    "equacao = '5a x 3b'\n",
    "resultado = (5*a)*(3*b)\n",
    "print(f'O resultado da equação {equacao} sendo que a é {a} e b é {b} é de {resultado} ')"
   ]
  },
  {
   "cell_type": "markdown",
   "id": "390c3e23",
   "metadata": {},
   "source": [
    "# 3"
   ]
  },
  {
   "cell_type": "code",
   "execution_count": 6,
   "id": "f0d76d32",
   "metadata": {},
   "outputs": [
    {
     "name": "stdout",
     "output_type": "stream",
     "text": [
      "O resultado da soma de  2 + 5 + 5 é de 12 \n"
     ]
    }
   ],
   "source": [
    "a = 2\n",
    "b = 5\n",
    "c = 5\n",
    "resultado = a+b+c\n",
    "print(f'O resultado da soma de  {a} + {b} + {c} é de {resultado} ')"
   ]
  },
  {
   "cell_type": "markdown",
   "id": "5164d3fc",
   "metadata": {},
   "source": [
    "# 4"
   ]
  },
  {
   "cell_type": "code",
   "execution_count": 11,
   "id": "a0dac2e9",
   "metadata": {},
   "outputs": [
    {
     "name": "stdout",
     "output_type": "stream",
     "text": [
      "Digite o 1° valor? 5\n",
      "Digite o 2° valor? 6\n",
      "O que deseja fazer ?\n",
      "              1 - Soma\n",
      "              2 - Subtração\n",
      "              3 - Multiplicação\n",
      "              4 - Divisão\n",
      "              \n",
      "              1\n",
      "11\n"
     ]
    }
   ],
   "source": [
    "a = int(input('Digite o 1° valor? '))\n",
    "b = int(input('Digite o 2° valor? '))\n",
    "r = int(input(\"\"\"O que deseja fazer ?\n",
    "              1 - Soma\n",
    "              2 - Subtração\n",
    "              3 - Multiplicação\n",
    "              4 - Divisão\n",
    "              \n",
    "              \"\"\"))\n",
    "if r == 1:\n",
    "    print(a+b)\n",
    "elif r == 2:\n",
    "    print(a-b)\n",
    "elif r == 2:\n",
    "    print(a*b)\n",
    "else:\n",
    "   print(a/b)"
   ]
  },
  {
   "cell_type": "markdown",
   "id": "32c3e3d3",
   "metadata": {},
   "source": [
    "# 5"
   ]
  },
  {
   "cell_type": "code",
   "execution_count": 26,
   "id": "2ab2b071",
   "metadata": {},
   "outputs": [
    {
     "name": "stdout",
     "output_type": "stream",
     "text": [
      "1\n",
      "2\n",
      "3\n",
      "4\n",
      "5\n",
      "6\n",
      "7\n",
      "8\n",
      "9\n",
      "10\n",
      "_____\n",
      "1\n",
      "2\n",
      "3\n",
      "4\n",
      "5\n",
      "6\n",
      "7\n",
      "8\n",
      "9\n",
      "10\n",
      "11\n"
     ]
    }
   ],
   "source": [
    "c = 0\n",
    "while c <10:\n",
    "    c+=1\n",
    "    print(c)\n",
    "print('_'*5)\n",
    "\n",
    "for c in range (1,12):\n",
    "    print(c)\n"
   ]
  },
  {
   "cell_type": "code",
   "execution_count": 46,
   "id": "88b08ef9",
   "metadata": {},
   "outputs": [
    {
     "name": "stdout",
     "output_type": "stream",
     "text": [
      "10\n"
     ]
    }
   ],
   "source": [
    "c = 0\n",
    "while c <10:\n",
    "    c+=1\n",
    "    if c %2==0:\n",
    "        a = 0\n",
    "        pares = a+c\n",
    "print( pares)\n",
    "       \n",
    "    \n",
    "    \n",
    "        "
   ]
  },
  {
   "cell_type": "markdown",
   "id": "fea81bbd",
   "metadata": {},
   "source": [
    "# 6"
   ]
  },
  {
   "cell_type": "code",
   "execution_count": 1,
   "id": "b07b1fc8",
   "metadata": {},
   "outputs": [
    {
     "name": "stdout",
     "output_type": "stream",
     "text": [
      "A quantidade de números pares entre 1 e 10, são: 4\n",
      "A quantidade de números ímpares entre 1 e 10, são:5 \n",
      "\n",
      "          ---- Com o for ---\n",
      "\n",
      "A quantidade de números pares entre 1 e 10, são:  5\n",
      "A quantidade de números ímpares entre 1 e 10, são:  5\n"
     ]
    }
   ],
   "source": [
    "c = 1\n",
    "par = 0\n",
    "impar = 0\n",
    "\n",
    "while c < 10:\n",
    "    if c %2 == 0:\n",
    "        par +=1\n",
    "    else:\n",
    "        impar += 1\n",
    "        \n",
    "    #print(c)\n",
    "    c+=1\n",
    "\n",
    "print(f\"A quantidade de números pares entre 1 e 10, são: {par}\")\n",
    "print(f\"A quantidade de números ímpares entre 1 e 10, são:{impar} \")\n",
    "print()\n",
    "print('          ---- Com o for ---')\n",
    "print()\n",
    "i = 1\n",
    "par = 0\n",
    "impar = 0\n",
    "\n",
    "for i in range(1,11):\n",
    "    if (i % 2) == 0:\n",
    "        par += 1\n",
    "    else:\n",
    "        impar += 1\n",
    "\n",
    "print(\"A quantidade de números pares entre 1 e 10, são: \",par)\n",
    "print(\"A quantidade de números ímpares entre 1 e 10, são: \",impar)\n"
   ]
  },
  {
   "cell_type": "markdown",
   "id": "d7933e74",
   "metadata": {},
   "source": [
    "# 7"
   ]
  },
  {
   "cell_type": "code",
   "execution_count": 2,
   "id": "3d86a759",
   "metadata": {},
   "outputs": [
    {
     "name": "stdout",
     "output_type": "stream",
     "text": [
      "\n",
      "**************************\n",
      "\n",
      "x1: 6.405124837953327, x2: -1.405124837953327\n"
     ]
    }
   ],
   "source": [
    "a = 1\n",
    "b = -5\n",
    "c = -9\n",
    "delta = (b ** 2) - 4 * a * c\n",
    "\n",
    "print(\"\\n**************************\\n\")\n",
    "\n",
    "if a == 0:\n",
    "    print(\"O valor de a, deve ser diferente de 0\")\n",
    "elif delta < 0:\n",
    "    print(\"Sem raízes reais\")\n",
    "else:\n",
    "    x1 = (-b + delta ** (1 / 2)) / (2 * a)\n",
    "    x2 = (-b - delta ** (1 / 2)) / (2 * a)\n",
    "\n",
    "    print(\"x1: {}, x2: {}\".format(x1, x2))"
   ]
  },
  {
   "cell_type": "code",
   "execution_count": 3,
   "id": "503342a9",
   "metadata": {},
   "outputs": [
    {
     "name": "stdout",
     "output_type": "stream",
     "text": [
      "\n",
      "**************************\n",
      "\n",
      "Sem raízes reais\n"
     ]
    }
   ],
   "source": [
    "a = 1\n",
    "b = 0\n",
    "c = 6\n",
    "delta = (b ** 2) - 4 * a * c\n",
    "\n",
    "print(\"\\n**************************\\n\")\n",
    "\n",
    "if a == 0:\n",
    "    print(\"O valor de a, deve ser diferente de 0\")\n",
    "elif delta < 0:\n",
    "    print(\"Sem raízes reais\")\n",
    "else:\n",
    "    x1 = (-b + delta ** (1 / 2)) / (2 * a)\n",
    "    x2 = (-b - delta ** (1 / 2)) / (2 * a)\n",
    "\n",
    "    print(\"x1: {}, x2: {}\".format(x1, x2))"
   ]
  },
  {
   "cell_type": "code",
   "execution_count": 4,
   "id": "50dfea8e",
   "metadata": {},
   "outputs": [
    {
     "name": "stdout",
     "output_type": "stream",
     "text": [
      "\n",
      "**************************\n",
      "\n",
      "x1: 9.0, x2: 0.0\n"
     ]
    }
   ],
   "source": [
    "a = 5\n",
    "b = -45\n",
    "c = 0\n",
    "delta = (b ** 2) - 4 * a * c\n",
    "\n",
    "print(\"\\n**************************\\n\")\n",
    "\n",
    "if a == 0:\n",
    "    print(\"O valor de a, deve ser diferente de 0\")\n",
    "elif delta < 0:\n",
    "    print(\"Sem raízes reais\")\n",
    "else:\n",
    "    x1 = (-b + delta ** (1 / 2)) / (2 * a)\n",
    "    x2 = (-b - delta ** (1 / 2)) / (2 * a)\n",
    "\n",
    "    print(\"x1: {}, x2: {}\".format(x1, x2))"
   ]
  },
  {
   "cell_type": "code",
   "execution_count": 5,
   "id": "1b3caad2",
   "metadata": {},
   "outputs": [
    {
     "name": "stdout",
     "output_type": "stream",
     "text": [
      "\n",
      "**************************\n",
      "\n",
      "Sem raízes reais\n"
     ]
    }
   ],
   "source": [
    "a = 1\n",
    "b = -1\n",
    "c = 12\n",
    "delta = (b ** 2) - 4 * a * c\n",
    "\n",
    "print(\"\\n**************************\\n\")\n",
    "\n",
    "if a == 0:\n",
    "    print(\"O valor de a, deve ser diferente de 0\")\n",
    "elif delta < 0:\n",
    "    print(\"Sem raízes reais\")\n",
    "else:\n",
    "    x1 = (-b + delta ** (1 / 2)) / (2 * a)\n",
    "    x2 = (-b - delta ** (1 / 2)) / (2 * a)\n",
    "\n",
    "    print(\"x1: {}, x2: {}\".format(x1, x2))"
   ]
  },
  {
   "cell_type": "code",
   "execution_count": 6,
   "id": "0eedc89c",
   "metadata": {},
   "outputs": [
    {
     "name": "stdout",
     "output_type": "stream",
     "text": [
      "\n",
      "**************************\n",
      "\n",
      "Sem raízes reais\n"
     ]
    }
   ],
   "source": [
    "a = 1\n",
    "b = -6\n",
    "c = 10\n",
    "delta = (b ** 2) - 4 * a * c\n",
    "\n",
    "print(\"\\n**************************\\n\")\n",
    "\n",
    "if a == 0:\n",
    "    print(\"O valor de a, deve ser diferente de 0\")\n",
    "elif delta < 0:\n",
    "    print(\"Sem raízes reais\")\n",
    "else:\n",
    "    x1 = (-b + delta ** (1 / 2)) / (2 * a)\n",
    "    x2 = (-b - delta ** (1 / 2)) / (2 * a)\n",
    "\n",
    "    print(\"x1: {}, x2: {}\".format(x1, x2))"
   ]
  },
  {
   "cell_type": "code",
   "execution_count": 7,
   "id": "f358c147",
   "metadata": {},
   "outputs": [
    {
     "name": "stdout",
     "output_type": "stream",
     "text": [
      "Entre com o valor de a: 1\n",
      "Entre com o valor de b: -5\n",
      "Entre com o valor de c: -9\n",
      "\n",
      "**************************\n",
      "\n",
      "x1: 6.405124837953327, x2: -1.405124837953327\n"
     ]
    }
   ],
   "source": [
    "a = float(input('Entre com o valor de a: '))\n",
    "b = float(input('Entre com o valor de b: '))\n",
    "c = float(input('Entre com o valor de c: '))\n",
    "\n",
    "delta = (b ** 2) - 4 * a * c\n",
    "\n",
    "print(\"\\n**************************\\n\")\n",
    "\n",
    "if a == 0:\n",
    "    print(\"O valor de a, deve ser diferente de 0\")\n",
    "elif delta < 0:\n",
    "    print(\"Sem raízes reais\")\n",
    "else:\n",
    "    x1 = (-b + delta ** (1 / 2)) / (2 * a)\n",
    "    x2 = (-b - delta ** (1 / 2)) / (2 * a)\n",
    "\n",
    "    print(\"x1: {}, x2: {}\".format(x1, x2))"
   ]
  },
  {
   "cell_type": "markdown",
   "id": "99710bef",
   "metadata": {},
   "source": [
    "#### UTILIZANDO A BIBLIOTECA"
   ]
  },
  {
   "cell_type": "code",
   "execution_count": 8,
   "id": "e1bebeb6",
   "metadata": {},
   "outputs": [
    {
     "name": "stdout",
     "output_type": "stream",
     "text": [
      "Entre com o valor de a: 1\n",
      "Entre com o valor de b: -5\n",
      "Entre com o valor de c: -9\n",
      "\n",
      "**************************\n",
      "\n",
      "x1: 6.405124837953327, x2: -1.405124837953327\n"
     ]
    }
   ],
   "source": [
    "import math\n",
    "a = float(input('Entre com o valor de a: '))\n",
    "b = float(input('Entre com o valor de b: '))\n",
    "c = float(input('Entre com o valor de c: '))\n",
    "\n",
    "delta = (b ** 2) - 4 * a * c\n",
    "\n",
    "print(\"\\n**************************\\n\")\n",
    "\n",
    "if a == 0:\n",
    "    print(\"O valor de a, deve ser diferente de 0\")\n",
    "elif delta < 0:\n",
    "    print(\"Sem raízes reais\")\n",
    "else:\n",
    "    x1 = (-b + math.sqrt(delta)) / (2 * a)\n",
    "    x2 = (-b - math.sqrt(delta)) / (2 * a)\n",
    "\n",
    "    print(\"x1: {}, x2: {}\".format(x1, x2))"
   ]
  },
  {
   "cell_type": "markdown",
   "id": "daa640c6",
   "metadata": {},
   "source": [
    "# 8"
   ]
  },
  {
   "cell_type": "code",
   "execution_count": 9,
   "id": "c97e46e5",
   "metadata": {},
   "outputs": [
    {
     "name": "stdout",
     "output_type": "stream",
     "text": [
      "[6.405124837953327, -1.405124837953327]\n"
     ]
    }
   ],
   "source": [
    "import math\n",
    "def bhaskara(a,b,c):\n",
    "    delta = (b ** 2) - 4 * a * c\n",
    "    if delta <0:\n",
    "        return None\n",
    "    else:\n",
    "        raiz = []\n",
    "        m1 = math.sqrt(delta)\n",
    "        r1 = (-b +m1)/(2*a)\n",
    "        raiz.append(r1)\n",
    "        r2 = (-b -m1)/(2*a)\n",
    "        raiz.append(r2)\n",
    "        return raiz\n",
    "     \n",
    "print(bhaskara(1,-5,-9))\n"
   ]
  },
  {
   "cell_type": "code",
   "execution_count": null,
   "id": "8baa39d6",
   "metadata": {},
   "outputs": [],
   "source": [
    "a - As palavras reservadas são palavras que tem alguma funcionalidade no python, como print, return, def, import print - escrever na tela def - função return - retorna algo import - importa algo"
   ]
  }
 ],
 "metadata": {
  "kernelspec": {
   "display_name": "Python 3",
   "language": "python",
   "name": "python3"
  },
  "language_info": {
   "codemirror_mode": {
    "name": "ipython",
    "version": 3
   },
   "file_extension": ".py",
   "mimetype": "text/x-python",
   "name": "python",
   "nbconvert_exporter": "python",
   "pygments_lexer": "ipython3",
   "version": "3.8.8"
  }
 },
 "nbformat": 4,
 "nbformat_minor": 5
}
