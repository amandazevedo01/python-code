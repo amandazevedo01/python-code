{
 "cells": [
  {
   "cell_type": "code",
   "execution_count": 1,
   "id": "d3ab3a9f",
   "metadata": {},
   "outputs": [],
   "source": [
    "try:\n",
    "    import tabulate\n",
    "    from tabulate import tabulate\n",
    "\n",
    "\n",
    "except:\n",
    "    !pip install tabulate\n",
    "    import tabulate\n"
   ]
  },
  {
   "cell_type": "code",
   "execution_count": 2,
   "id": "65bff0a4",
   "metadata": {},
   "outputs": [],
   "source": [
    "from shutil import which\n",
    "import sqlite3\n",
    "\n"
   ]
  },
  {
   "cell_type": "code",
   "execution_count": 3,
   "id": "f1ab035b",
   "metadata": {},
   "outputs": [],
   "source": [
    "banco = sqlite3.connect(\"Tarefa SQL.db\")\n",
    "cursor = banco.cursor()"
   ]
  },
  {
   "cell_type": "code",
   "execution_count": 4,
   "id": "b6b2b144",
   "metadata": {},
   "outputs": [
    {
     "name": "stdout",
     "output_type": "stream",
     "text": [
      "Tabela criada com sucesso!\n",
      "Dados inseridos com sucesso!\n"
     ]
    }
   ],
   "source": [
    "# Criando uma tabela 'departamentos' com as campos idDepartamento, nomeDepartamento\n",
    "cursor.execute(\"CREATE TABLE departamentos (idDepartamento integer PRIMARY KEY , nomeDepartamento text)\")\n",
    "print(\"Tabela criada com sucesso!\")\n",
    "# Inserindo dados na tabela\n",
    "# Primeiro criamos uma lista com conteúdo a ser inserido, na mesma ordem dos tipos de dados definidos\n",
    "listadepartamento = [('1','TI'),\n",
    "                     ('2','Fisica'),\n",
    "                     ('3','Matemática'),\n",
    "                     ('4','Engenharia'),\n",
    "                     ('5','Biologia'),\n",
    "                     ('6','História')]\n",
    "\n",
    "# Inserimos os dados da lista dentro da tabela\n",
    "cursor.executemany(\"\"\"INSERT INTO departamentos VALUES (?,?)\"\"\", listadepartamento)\n",
    "print(\"Dados inseridos com sucesso!\")\n",
    "banco.commit()"
   ]
  },
  {
   "cell_type": "code",
   "execution_count": 5,
   "id": "0ea0c563",
   "metadata": {},
   "outputs": [
    {
     "name": "stdout",
     "output_type": "stream",
     "text": [
      "-  ----------\n",
      "1  TI\n",
      "2  Fisica\n",
      "3  Matemática\n",
      "4  Engenharia\n",
      "5  Biologia\n",
      "6  História\n",
      "-  ----------\n"
     ]
    }
   ],
   "source": [
    "# Consulta dados da tabela 'estudantes'\n",
    "cursor.execute(\"SELECT * FROM departamentos\")\n",
    "print (tabulate (cursor.fetchall()))"
   ]
  },
  {
   "cell_type": "code",
   "execution_count": 6,
   "id": "cd982841",
   "metadata": {},
   "outputs": [],
   "source": [
    "cursor.execute(\"\"\"CREATE TABLE IF NOT EXISTS funcionarios (codigoFUNCIONARIO integer, nomeFUNCIONARIO text, segundonomeFUNCIONARIO text,\n",
    "ultimonomeFUNCIONARIO text, datanascFUNCIONARIO integer, cpfFUNCIONARIO varchar(11), rgFUNCIONARIO varchar(9), enderecoFUNCIONARIO text, \n",
    "cepFUNCIONARIO varchar(8), cidadeFUNCIONARIO text, foneFUNCIONARIO integer, idDepartamento integer, funcaoFUNCIONARIO text, salarioFUNCIONARIO real) \"\"\")\n",
    "\n",
    "banco.commit()"
   ]
  },
  {
   "cell_type": "code",
   "execution_count": 7,
   "id": "6fa7ed5d",
   "metadata": {},
   "outputs": [],
   "source": [
    "lista = [('1', 'Felipe', 'Lopes', 'Pontes', '10/11/1999', '000.000.000-00', '00.000000-0', 'Rua logo ali', '00000-000', 'Itapetininga', '000000000', '3', 'Desenvolvedor', '4.5000,00'),\n",
    "         ('2', 'Lucas', 'Sousa', 'Pinto', '07/01/1994', '000.000.000-01', '00.000000-1',\n",
    "          'Rua quase pereto', '00000-001', 'Itapetininga', '000000001', '2', 'Pintor', '2.5000,00'),\n",
    "         ('3', 'Paulo', 'Henrique', 'Garcia', '02/12/1992', '000.000.000-02', '00.000000-2',\n",
    "          'Rua vish', '00000-002', 'Itapetininga', '000000002', '1', 'Estioquista', '1.5000,00'),\n",
    "         ('4', 'Dominic', 'Lenz', 'Phins', '21/01/1993', '000.000.000-03', '00.000000-3',\n",
    "          'Rua pertinho', '00000-003', 'Itapetininga', '000000003', '4', 'Motorista', '2.0000,00'),\n",
    "         ('5', 'Bruno', 'Lopes', 'Pontes', '01/05/1999', '000.000.000-04', '00.000000-4',\n",
    "          'Rua logo ali', '00000-004', 'Itapetininga', '000000004', '3', 'RH', '3.5000,00'),\n",
    "         ('7', 'Elias', 'Sousa', 'Pontes', '18/07/1973', '000.000.000-05', '00.000000-5',\n",
    "          'Rua perto', '00000-005', 'Itapetininga', '000000005', '2', 'Porteiro', '2.0000,00'),\n",
    "         ('8', 'Carlos', 'Maciel', 'Silva', '15/06/1998', '000.000.000-08', '00.000000-8',\n",
    "          'Rua logo ', '00000-008', 'Itapetininga', '000000008', '1', 'Auxiliar', '1.5000,00'),\n",
    "         ('9', 'Thiago', 'Sarnei', 'Moura', '18/07/1991', '000.000.000-09', '00.000000-9',\n",
    "          'Rua ali', '00000-009', 'Itapetininga', '000000009', '3', 'Motoboy', '2.0000,00'),\n",
    "         ('10', 'Maria', 'Silva', 'Vieira', '19/11/1994', '000.000.000-10', '00.000001-0',\n",
    "          'Rua quase', '00000-010', 'Itapetininga', '000000010', '3', 'Empregada', '1.9000,00'),\n",
    "         ('11', 'Lira', 'Luns', 'Live', '05/10/1989', '000.000.002-00', '00.000002-0',\n",
    "          'Rua deixa', '00000-020', 'Itapetininga', '000000020', '1', 'Gerente', '4.5000,00'),\n",
    "         ('12', 'Odin', 'Lopes', 'Handal', '08/10/1999', '000.000.000-00', '00.000000-0', 'Rua logo ali', '00000-000', 'Itapetininga', '000000000', '3', 'Desenvolvedor', '4.5000,00')]\n"
   ]
  },
  {
   "cell_type": "code",
   "execution_count": 8,
   "id": "4770fb62",
   "metadata": {},
   "outputs": [
    {
     "name": "stdout",
     "output_type": "stream",
     "text": [
      "Dados inseridos!\n"
     ]
    }
   ],
   "source": [
    "\n",
    "cursor.executemany(\n",
    "    \"\"\"INSERT INTO funcionarios VALUES(?,?,?,?,?,?,?,?,?,?,?,?,?,?)\"\"\", lista)\n",
    "\n",
    "banco.commit()\n",
    "print(\"Dados inseridos!\")"
   ]
  },
  {
   "cell_type": "code",
   "execution_count": null,
   "id": "1761309d",
   "metadata": {},
   "outputs": [],
   "source": [
    "# Consulta dados da tabela 'estudantes'\n",
    "cursor.execute(\"SELECT * FROM funcionarios\")\n",
    "print (tabulate (cursor.fetchall()))"
   ]
  },
  {
   "cell_type": "code",
   "execution_count": 10,
   "id": "2a4ce437",
   "metadata": {
    "collapsed": true
   },
   "outputs": [
    {
     "name": "stdout",
     "output_type": "stream",
     "text": [
      "-------  ------\n",
      "Paulo    Garcia\n",
      "Odin     Handal\n",
      "Lira     Live\n",
      "Thiago   Moura\n",
      "Dominic  Phins\n",
      "Lucas    Pinto\n",
      "Felipe   Pontes\n",
      "Bruno    Pontes\n",
      "Elias    Pontes\n",
      "Carlos   Silva\n",
      "Maria    Vieira\n",
      "-------  ------\n"
     ]
    }
   ],
   "source": [
    "# A)\tListar nome e sobrenome ordenado por sobrenome\n",
    "sql = \"\"\"SELECT\n",
    "  funcionarios.nomeFUNCIONARIO,\n",
    "  funcionarios.ultimonomeFUNCIONARIO\n",
    "  FROM funcionarios\n",
    "order by ultimonomeFUNCIONARIO \"\"\"\n",
    "\n",
    "cursor.execute(sql)\n",
    "print (tabulate (cursor.fetchall()))"
   ]
  },
  {
   "cell_type": "code",
   "execution_count": 11,
   "id": "78bb31e5",
   "metadata": {
    "collapsed": true
   },
   "outputs": [
    {
     "name": "stdout",
     "output_type": "stream",
     "text": [
      "--  -------  --------  ------  ----------  --------------  -----------  ----------------  ---------  ------------  --  -  -------------  ---------\n",
      " 1  Felipe   Lopes     Pontes  10/11/1999  000.000.000-00  00.000000-0  Rua logo ali      00000-000  Itapetininga   0  3  Desenvolvedor  4.5000,00\n",
      " 2  Lucas    Sousa     Pinto   07/01/1994  000.000.000-01  00.000000-1  Rua quase pereto  00000-001  Itapetininga   1  2  Pintor         2.5000,00\n",
      " 3  Paulo    Henrique  Garcia  02/12/1992  000.000.000-02  00.000000-2  Rua vish          00000-002  Itapetininga   2  1  Estioquista    1.5000,00\n",
      " 4  Dominic  Lenz      Phins   21/01/1993  000.000.000-03  00.000000-3  Rua pertinho      00000-003  Itapetininga   3  4  Motorista      2.0000,00\n",
      " 5  Bruno    Lopes     Pontes  01/05/1999  000.000.000-04  00.000000-4  Rua logo ali      00000-004  Itapetininga   4  3  RH             3.5000,00\n",
      " 7  Elias    Sousa     Pontes  18/07/1973  000.000.000-05  00.000000-5  Rua perto         00000-005  Itapetininga   5  2  Porteiro       2.0000,00\n",
      " 8  Carlos   Maciel    Silva   15/06/1998  000.000.000-08  00.000000-8  Rua logo          00000-008  Itapetininga   8  1  Auxiliar       1.5000,00\n",
      " 9  Thiago   Sarnei    Moura   18/07/1991  000.000.000-09  00.000000-9  Rua ali           00000-009  Itapetininga   9  3  Motoboy        2.0000,00\n",
      "10  Maria    Silva     Vieira  19/11/1994  000.000.000-10  00.000001-0  Rua quase         00000-010  Itapetininga  10  3  Empregada      1.9000,00\n",
      "11  Lira     Luns      Live    05/10/1989  000.000.002-00  00.000002-0  Rua deixa         00000-020  Itapetininga  20  1  Gerente        4.5000,00\n",
      "12  Odin     Lopes     Handal  08/10/1999  000.000.000-00  00.000000-0  Rua logo ali      00000-000  Itapetininga   0  3  Desenvolvedor  4.5000,00\n",
      "--  -------  --------  ------  ----------  --------------  -----------  ----------------  ---------  ------------  --  -  -------------  ---------\n"
     ]
    }
   ],
   "source": [
    "#B)\tListar todos os campos de funcionários ordenados por cidade\n",
    "sql = \"\"\"SELECT *\n",
    "\n",
    "  FROM funcionarios\n",
    "order by cidadeFUNCIONARIO \"\"\"\n",
    "\n",
    "cursor.execute(sql)\n",
    "print (tabulate (cursor.fetchall()))"
   ]
  },
  {
   "cell_type": "code",
   "execution_count": 25,
   "id": "546271ed",
   "metadata": {},
   "outputs": [
    {
     "name": "stdout",
     "output_type": "stream",
     "text": [
      "-------  ------  ---------\n",
      "Bruno    Pontes  3.5000,00\n",
      "Carlos   Silva   1.5000,00\n",
      "Dominic  Phins   2.0000,00\n",
      "Elias    Pontes  2.0000,00\n",
      "Felipe   Pontes  4.5000,00\n",
      "Lira     Live    4.5000,00\n",
      "Lucas    Pinto   2.5000,00\n",
      "Maria    Vieira  1.9000,00\n",
      "Odin     Handal  4.5000,00\n",
      "Paulo    Garcia  1.5000,00\n",
      "Thiago   Moura   2.0000,00\n",
      "-------  ------  ---------\n"
     ]
    }
   ],
   "source": [
    "#C)\tListe os funcionários que têm salário superior a R$ 1.000,00 ordenados pelo nome completo\n",
    "\n",
    "cursor.execute(\"SELECT nomeFUNCIONARIO,ultimonomeFUNCIONARIO,salarioFUNCIONARIO FROM funcionarios   where salarioFUNCIONARIO > 1000 order by nomeFUNCIONARIO \")\n",
    "print (tabulate (cursor.fetchall()))"
   ]
  },
  {
   "cell_type": "code",
   "execution_count": null,
   "id": "6c5573ad",
   "metadata": {},
   "outputs": [],
   "source": [
    "#D)\tListe a data de nascimento e o primeiro nome dos funcionários ordenados do mais novo para o mais velho\n",
    "#\n",
    "sql = \"\"\"SELECT\n",
    "  funcionarios.nomeFUNCIONARIO,\n",
    "  departamentos.nomeDepartamento,\n",
    "  funcionarios.funcaoFUNCIONARIO\n",
    "FROM departamentos\n",
    "INNER JOIN funcionarios ON funcionarios.idDepartamento = departamentos.idDepartamento\"\"\"\n",
    "\n",
    "cursor.execute(sql)\n",
    "print (tabulate (cursor.fetchall()))\n"
   ]
  },
  {
   "cell_type": "code",
   "execution_count": 27,
   "id": "0224f5de",
   "metadata": {},
   "outputs": [
    {
     "name": "stdout",
     "output_type": "stream",
     "text": [
      "----\n",
      "30.4\n",
      "----\n"
     ]
    }
   ],
   "source": [
    "#E)\tListe o total da folha de pagamento\n",
    "\n",
    "sql = \"\"\"SELECT sum(salarioFUNCIONARIO)\n",
    "FROM funcionarios\n",
    "\"\"\"\n",
    "\n",
    "cursor.execute(sql)\n",
    "print (tabulate (cursor.fetchall()))\n"
   ]
  },
  {
   "cell_type": "code",
   "execution_count": 30,
   "id": "d87c29ba",
   "metadata": {},
   "outputs": [
    {
     "name": "stdout",
     "output_type": "stream",
     "text": [
      "-------  ----------  -------------\n",
      "Felipe   Matemática  Desenvolvedor\n",
      "Lucas    Fisica      Pintor\n",
      "Paulo    TI          Estioquista\n",
      "Dominic  Engenharia  Motorista\n",
      "Bruno    Matemática  RH\n",
      "Elias    Fisica      Porteiro\n",
      "Carlos   TI          Auxiliar\n",
      "Thiago   Matemática  Motoboy\n",
      "Maria    Matemática  Empregada\n",
      "Lira     TI          Gerente\n",
      "Odin     Matemática  Desenvolvedor\n",
      "-------  ----------  -------------\n"
     ]
    }
   ],
   "source": [
    "#F)\tListe o nome, o nome do departamento e a função de todos os funcionários\n",
    "#\n",
    "sql = \"\"\"SELECT\n",
    "  funcionarios.nomeFUNCIONARIO,\n",
    "  departamentos.nomeDepartamento,\n",
    "  funcionarios.funcaoFUNCIONARIO\n",
    "FROM departamentos\n",
    "INNER JOIN funcionarios ON funcionarios.idDepartamento = departamentos.idDepartamento\"\"\"\n",
    "\n",
    "cursor.execute(sql)\n",
    "print (tabulate (cursor.fetchall()))"
   ]
  },
  {
   "cell_type": "code",
   "execution_count": 29,
   "id": "1f82f710",
   "metadata": {},
   "outputs": [
    {
     "name": "stdout",
     "output_type": "stream",
     "text": [
      "--\n",
      "11\n",
      "--\n"
     ]
    }
   ],
   "source": [
    "#G)\tListe a quantidade de funcionários desta empresa\n",
    "sql = \"\"\"SELECT count(nomeFUNCIONARIO)\n",
    "FROM funcionarios\n",
    "\"\"\"\n",
    "\n",
    "cursor.execute(sql)\n",
    "print (tabulate (cursor.fetchall()))\n",
    "\n"
   ]
  },
  {
   "cell_type": "code",
   "execution_count": 34,
   "id": "9326b803",
   "metadata": {},
   "outputs": [
    {
     "name": "stdout",
     "output_type": "stream",
     "text": [
      "----------  -------\n",
      "Engenharia  Dominic\n",
      "Fisica      Elias\n",
      "Fisica      Lucas\n",
      "Matemática  Bruno\n",
      "Matemática  Felipe\n",
      "Matemática  Maria\n",
      "Matemática  Odin\n",
      "Matemática  Thiago\n",
      "TI          Carlos\n",
      "TI          Lira\n",
      "TI          Paulo\n",
      "----------  -------\n"
     ]
    }
   ],
   "source": [
    "#H)\tListe o nome do departamento e do funcionário ordenados por departamento e funcionário\n",
    "sql = \"\"\"SELECT\n",
    "  departamentos.nomeDepartamento,\n",
    "  funcionarios.nomeFUNCIONARIO\n",
    "FROM departamentos\n",
    "INNER JOIN funcionarios ON funcionarios.idDepartamento = departamentos.idDepartamento order by departamentos.nomeDepartamento,  funcionarios.nomeFUNCIONARIO \"\"\"\n",
    "\n",
    "cursor.execute(sql)\n",
    "print (tabulate (cursor.fetchall()))\n"
   ]
  }
 ],
 "metadata": {
  "kernelspec": {
   "display_name": "Python 3",
   "language": "python",
   "name": "python3"
  },
  "language_info": {
   "codemirror_mode": {
    "name": "ipython",
    "version": 3
   },
   "file_extension": ".py",
   "mimetype": "text/x-python",
   "name": "python",
   "nbconvert_exporter": "python",
   "pygments_lexer": "ipython3",
   "version": "3.8.8"
  }
 },
 "nbformat": 4,
 "nbformat_minor": 5
}
