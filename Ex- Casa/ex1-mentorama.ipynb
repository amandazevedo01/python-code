{
 "cells": [
  {
   "cell_type": "markdown",
   "id": "76e53721",
   "metadata": {},
   "source": [
    "# 1"
   ]
  },
  {
   "cell_type": "code",
   "execution_count": 1,
   "id": "cc2f26c8",
   "metadata": {},
   "outputs": [
    {
     "name": "stdout",
     "output_type": "stream",
     "text": [
      "Meu nome é Amanda Fogaça Azevedo\n"
     ]
    }
   ],
   "source": [
    "print('Meu nome é Amanda Fogaça Azevedo')"
   ]
  },
  {
   "cell_type": "markdown",
   "id": "6df8c84e",
   "metadata": {},
   "source": [
    "# 2"
   ]
  },
  {
   "cell_type": "code",
   "execution_count": 3,
   "id": "a62ac184",
   "metadata": {},
   "outputs": [
    {
     "name": "stdout",
     "output_type": "stream",
     "text": [
      "O resultado da equação 5a x 3b sendo que a é 2 e b é 5 é de 150 \n"
     ]
    }
   ],
   "source": [
    "a = 2\n",
    "b = 5\n",
    "equacao = '5a x 3b'\n",
    "resultado = (5*a)*(3*b)\n",
    "print(f'O resultado da equação {equacao} sendo que a é {a} e b é {b} é de {resultado} ')"
   ]
  },
  {
   "cell_type": "markdown",
   "id": "390c3e23",
   "metadata": {},
   "source": [
    "# 3"
   ]
  },
  {
   "cell_type": "code",
   "execution_count": 6,
   "id": "f0d76d32",
   "metadata": {},
   "outputs": [
    {
     "name": "stdout",
     "output_type": "stream",
     "text": [
      "O resultado da soma de  2 + 5 + 5 é de 12 \n"
     ]
    }
   ],
   "source": [
    "a = 2\n",
    "b = 5\n",
    "c = 5\n",
    "resultado = a+b+c\n",
    "print(f'O resultado da soma de  {a} + {b} + {c} é de {resultado} ')"
   ]
  },
  {
   "cell_type": "markdown",
   "id": "5164d3fc",
   "metadata": {},
   "source": [
    "# 4"
   ]
  },
  {
   "cell_type": "code",
   "execution_count": 11,
   "id": "a0dac2e9",
   "metadata": {},
   "outputs": [
    {
     "name": "stdout",
     "output_type": "stream",
     "text": [
      "Digite o 1° valor? 5\n",
      "Digite o 2° valor? 6\n",
      "O que deseja fazer ?\n",
      "              1 - Soma\n",
      "              2 - Subtração\n",
      "              3 - Multiplicação\n",
      "              4 - Divisão\n",
      "              \n",
      "              1\n",
      "11\n"
     ]
    }
   ],
   "source": [
    "a = int(input('Digite o 1° valor? '))\n",
    "b = int(input('Digite o 2° valor? '))\n",
    "r = int(input(\"\"\"O que deseja fazer ?\n",
    "              1 - Soma\n",
    "              2 - Subtração\n",
    "              3 - Multiplicação\n",
    "              4 - Divisão\n",
    "              \n",
    "              \"\"\"))\n",
    "if r == 1:\n",
    "    print(a+b)\n",
    "elif r == 2:\n",
    "    print(a-b)\n",
    "elif r == 2:\n",
    "    print(a*b)\n",
    "else:\n",
    "   print(a/b)"
   ]
  },
  {
   "cell_type": "markdown",
   "id": "32c3e3d3",
   "metadata": {},
   "source": [
    "# 5"
   ]
  },
  {
   "cell_type": "code",
   "execution_count": 26,
   "id": "2ab2b071",
   "metadata": {},
   "outputs": [
    {
     "name": "stdout",
     "output_type": "stream",
     "text": [
      "1\n",
      "2\n",
      "3\n",
      "4\n",
      "5\n",
      "6\n",
      "7\n",
      "8\n",
      "9\n",
      "10\n",
      "_____\n",
      "1\n",
      "2\n",
      "3\n",
      "4\n",
      "5\n",
      "6\n",
      "7\n",
      "8\n",
      "9\n",
      "10\n",
      "11\n"
     ]
    }
   ],
   "source": [
    "c = 0\n",
    "while c <10:\n",
    "    c+=1\n",
    "    print(c)\n",
    "print('_'*5)\n",
    "\n",
    "for c in range (1,12):\n",
    "    print(c)\n"
   ]
  },
  {
   "cell_type": "code",
   "execution_count": 46,
   "id": "88b08ef9",
   "metadata": {},
   "outputs": [
    {
     "name": "stdout",
     "output_type": "stream",
     "text": [
      "10\n"
     ]
    }
   ],
   "source": [
    "c = 0\n",
    "while c <10:\n",
    "    c+=1\n",
    "    if c %2==0:\n",
    "        a = 0\n",
    "        pares = a+c\n",
    "print( pares)\n",
    "       \n",
    "    \n",
    "    \n",
    "        "
   ]
  },
  {
   "cell_type": "markdown",
   "id": "b449a606",
   "metadata": {},
   "source": [
    "# 6"
   ]
  },
  {
   "cell_type": "code",
   "execution_count": 1,
   "id": "000700cc",
   "metadata": {},
   "outputs": [
    {
     "name": "stdout",
     "output_type": "stream",
     "text": [
      "A quantidade de números pares entre 1 e 10, são: 4\n",
      "A quantidade de números ímpares entre 1 e 10, são:5 \n",
      "\n",
      "          ---- Com o for ---\n",
      "\n",
      "A quantidade de números pares entre 1 e 10, são:  5\n",
      "A quantidade de números ímpares entre 1 e 10, são:  5\n"
     ]
    }
   ],
   "source": [
    "c = 1\n",
    "par = 0\n",
    "impar = 0\n",
    "\n",
    "while c < 10:\n",
    "    if c %2 == 0:\n",
    "        par +=1\n",
    "    else:\n",
    "        impar += 1\n",
    "        \n",
    "    #print(c)\n",
    "    c+=1\n",
    "\n",
    "print(f\"A quantidade de números pares entre 1 e 10, são: {par}\")\n",
    "print(f\"A quantidade de números ímpares entre 1 e 10, são:{impar} \")\n",
    "print()\n",
    "print('          ---- Com o for ---')\n",
    "print()\n",
    "i = 1\n",
    "par = 0\n",
    "impar = 0\n",
    "\n",
    "for i in range(1,11):\n",
    "    if (i % 2) == 0:\n",
    "        par += 1\n",
    "    else:\n",
    "        impar += 1\n",
    "\n",
    "print(\"A quantidade de números pares entre 1 e 10, são: \",par)\n",
    "print(\"A quantidade de números ímpares entre 1 e 10, são: \",impar)\n"
   ]
  },
  {
   "cell_type": "markdown",
   "id": "07178ef1",
   "metadata": {},
   "source": [
    "# 7"
   ]
  },
  {
   "cell_type": "code",
   "execution_count": 2,
   "id": "f90f1d7e",
   "metadata": {},
   "outputs": [
    {
     "name": "stdout",
     "output_type": "stream",
     "text": [
      "\n",
      "**************************\n",
      "\n",
      "x1: 6.405124837953327, x2: -1.405124837953327\n"
     ]
    }
   ],
   "source": [
    "a = 1\n",
    "b = -5\n",
    "c = -9\n",
    "delta = (b ** 2) - 4 * a * c\n",
    "\n",
    "print(\"\\n**************************\\n\")\n",
    "\n",
    "if a == 0:\n",
    "    print(\"O valor de a, deve ser diferente de 0\")\n",
    "elif delta < 0:\n",
    "    print(\"Sem raízes reais\")\n",
    "else:\n",
    "    x1 = (-b + delta ** (1 / 2)) / (2 * a)\n",
    "    x2 = (-b - delta ** (1 / 2)) / (2 * a)\n",
    "\n",
    "    print(\"x1: {}, x2: {}\".format(x1, x2))"
   ]
  },
  {
   "cell_type": "code",
   "execution_count": 3,
   "id": "826e48a3",
   "metadata": {},
   "outputs": [
    {
     "name": "stdout",
     "output_type": "stream",
     "text": [
      "\n",
      "**************************\n",
      "\n",
      "Sem raízes reais\n"
     ]
    }
   ],
   "source": [
    "a = 1\n",
    "b = 0\n",
    "c = 6\n",
    "delta = (b ** 2) - 4 * a * c\n",
    "\n",
    "print(\"\\n**************************\\n\")\n",
    "\n",
    "if a == 0:\n",
    "    print(\"O valor de a, deve ser diferente de 0\")\n",
    "elif delta < 0:\n",
    "    print(\"Sem raízes reais\")\n",
    "else:\n",
    "    x1 = (-b + delta ** (1 / 2)) / (2 * a)\n",
    "    x2 = (-b - delta ** (1 / 2)) / (2 * a)\n",
    "\n",
    "    print(\"x1: {}, x2: {}\".format(x1, x2))"
   ]
  },
  {
   "cell_type": "code",
   "execution_count": 4,
   "id": "195b9594",
   "metadata": {},
   "outputs": [
    {
     "name": "stdout",
     "output_type": "stream",
     "text": [
      "\n",
      "**************************\n",
      "\n",
      "x1: 9.0, x2: 0.0\n"
     ]
    }
   ],
   "source": [
    "a = 5\n",
    "b = -45\n",
    "c = 0\n",
    "delta = (b ** 2) - 4 * a * c\n",
    "\n",
    "print(\"\\n**************************\\n\")\n",
    "\n",
    "if a == 0:\n",
    "    print(\"O valor de a, deve ser diferente de 0\")\n",
    "elif delta < 0:\n",
    "    print(\"Sem raízes reais\")\n",
    "else:\n",
    "    x1 = (-b + delta ** (1 / 2)) / (2 * a)\n",
    "    x2 = (-b - delta ** (1 / 2)) / (2 * a)\n",
    "\n",
    "    print(\"x1: {}, x2: {}\".format(x1, x2))"
   ]
  },
  {
   "cell_type": "code",
   "execution_count": 5,
   "id": "38c0c485",
   "metadata": {},
   "outputs": [
    {
     "name": "stdout",
     "output_type": "stream",
     "text": [
      "\n",
      "**************************\n",
      "\n",
      "Sem raízes reais\n"
     ]
    }
   ],
   "source": [
    "a = 1\n",
    "b = -1\n",
    "c = 12\n",
    "delta = (b ** 2) - 4 * a * c\n",
    "\n",
    "print(\"\\n**************************\\n\")\n",
    "\n",
    "if a == 0:\n",
    "    print(\"O valor de a, deve ser diferente de 0\")\n",
    "elif delta < 0:\n",
    "    print(\"Sem raízes reais\")\n",
    "else:\n",
    "    x1 = (-b + delta ** (1 / 2)) / (2 * a)\n",
    "    x2 = (-b - delta ** (1 / 2)) / (2 * a)\n",
    "\n",
    "    print(\"x1: {}, x2: {}\".format(x1, x2))"
   ]
  },
  {
   "cell_type": "code",
   "execution_count": 6,
   "id": "dca3f142",
   "metadata": {},
   "outputs": [
    {
     "name": "stdout",
     "output_type": "stream",
     "text": [
      "\n",
      "**************************\n",
      "\n",
      "Sem raízes reais\n"
     ]
    }
   ],
   "source": [
    "a = 1\n",
    "b = -6\n",
    "c = 10\n",
    "delta = (b ** 2) - 4 * a * c\n",
    "\n",
    "print(\"\\n**************************\\n\")\n",
    "\n",
    "if a == 0:\n",
    "    print(\"O valor de a, deve ser diferente de 0\")\n",
    "elif delta < 0:\n",
    "    print(\"Sem raízes reais\")\n",
    "else:\n",
    "    x1 = (-b + delta ** (1 / 2)) / (2 * a)\n",
    "    x2 = (-b - delta ** (1 / 2)) / (2 * a)\n",
    "\n",
    "    print(\"x1: {}, x2: {}\".format(x1, x2))"
   ]
  },
  {
   "cell_type": "code",
   "execution_count": 7,
   "id": "95b418ba",
   "metadata": {},
   "outputs": [
    {
     "name": "stdout",
     "output_type": "stream",
     "text": [
      "Entre com o valor de a: 1\n",
      "Entre com o valor de b: -5\n",
      "Entre com o valor de c: -9\n",
      "\n",
      "**************************\n",
      "\n",
      "x1: 6.405124837953327, x2: -1.405124837953327\n"
     ]
    }
   ],
   "source": [
    "a = float(input('Entre com o valor de a: '))\n",
    "b = float(input('Entre com o valor de b: '))\n",
    "c = float(input('Entre com o valor de c: '))\n",
    "\n",
    "delta = (b ** 2) - 4 * a * c\n",
    "\n",
    "print(\"\\n**************************\\n\")\n",
    "\n",
    "if a == 0:\n",
    "    print(\"O valor de a, deve ser diferente de 0\")\n",
    "elif delta < 0:\n",
    "    print(\"Sem raízes reais\")\n",
    "else:\n",
    "    x1 = (-b + delta ** (1 / 2)) / (2 * a)\n",
    "    x2 = (-b - delta ** (1 / 2)) / (2 * a)\n",
    "\n",
    "    print(\"x1: {}, x2: {}\".format(x1, x2))"
   ]
  },
  {
   "cell_type": "markdown",
   "id": "20040f54",
   "metadata": {},
   "source": [
    "#### UTILIZANDO A BIBLIOTECA"
   ]
  },
  {
   "cell_type": "code",
   "execution_count": 8,
   "id": "422a95e4",
   "metadata": {},
   "outputs": [
    {
     "name": "stdout",
     "output_type": "stream",
     "text": [
      "Entre com o valor de a: 1\n",
      "Entre com o valor de b: -5\n",
      "Entre com o valor de c: -9\n",
      "\n",
      "**************************\n",
      "\n",
      "x1: 6.405124837953327, x2: -1.405124837953327\n"
     ]
    }
   ],
   "source": [
    "import math\n",
    "a = float(input('Entre com o valor de a: '))\n",
    "b = float(input('Entre com o valor de b: '))\n",
    "c = float(input('Entre com o valor de c: '))\n",
    "\n",
    "delta = (b ** 2) - 4 * a * c\n",
    "\n",
    "print(\"\\n**************************\\n\")\n",
    "\n",
    "if a == 0:\n",
    "    print(\"O valor de a, deve ser diferente de 0\")\n",
    "elif delta < 0:\n",
    "    print(\"Sem raízes reais\")\n",
    "else:\n",
    "    x1 = (-b + math.sqrt(delta)) / (2 * a)\n",
    "    x2 = (-b - math.sqrt(delta)) / (2 * a)\n",
    "\n",
    "    print(\"x1: {}, x2: {}\".format(x1, x2))"
   ]
  },
  {
   "cell_type": "markdown",
   "id": "44a1e51b",
   "metadata": {},
   "source": [
    "# 8"
   ]
  },
  {
   "cell_type": "code",
   "execution_count": 9,
   "id": "531f6154",
   "metadata": {},
   "outputs": [
    {
     "name": "stdout",
     "output_type": "stream",
     "text": [
      "[6.405124837953327, -1.405124837953327]\n"
     ]
    }
   ],
   "source": [
    "import math\n",
    "def bhaskara(a,b,c):\n",
    "    delta = (b ** 2) - 4 * a * c\n",
    "    if delta <0:\n",
    "        return None\n",
    "    else:\n",
    "        raiz = []\n",
    "        m1 = math.sqrt(delta)\n",
    "        r1 = (-b +m1)/(2*a)\n",
    "        raiz.append(r1)\n",
    "        r2 = (-b -m1)/(2*a)\n",
    "        raiz.append(r2)\n",
    "        return raiz\n",
    "     \n",
    "print(bhaskara(1,-5,-9))\n"
   ]
  },
  {
   "cell_type": "markdown",
   "id": "6bdc9b65",
   "metadata": {},
   "source": [
    "a - As palavras reservadas são palavras que tem alguma funcionalidade no python, como print, return, def, import\n",
    "b - print - escrever na tela def - função return - retorna algo import - importa algo"
   ]
  },
  {
   "cell_type": "markdown",
   "id": "bec5ca85",
   "metadata": {},
   "source": [
    "# 9"
   ]
  },
  {
   "cell_type": "code",
   "execution_count": 10,
   "id": "70c4f1f3",
   "metadata": {},
   "outputs": [],
   "source": [
    "s = 'Mentorama'"
   ]
  },
  {
   "cell_type": "code",
   "execution_count": 11,
   "id": "7fa6fc84",
   "metadata": {},
   "outputs": [
    {
     "name": "stdout",
     "output_type": "stream",
     "text": [
      "MENTORAMA\n"
     ]
    }
   ],
   "source": [
    "print(s.upper())"
   ]
  },
  {
   "cell_type": "code",
   "execution_count": 12,
   "id": "0e9af399",
   "metadata": {},
   "outputs": [
    {
     "data": {
      "text/plain": [
       "9"
      ]
     },
     "execution_count": 12,
     "metadata": {},
     "output_type": "execute_result"
    }
   ],
   "source": [
    "len(s)"
   ]
  },
  {
   "cell_type": "code",
   "execution_count": 13,
   "id": "2bbca7ce",
   "metadata": {},
   "outputs": [
    {
     "data": {
      "text/plain": [
       "'amarotneM'"
      ]
     },
     "execution_count": 13,
     "metadata": {},
     "output_type": "execute_result"
    }
   ],
   "source": [
    "s[::-1]"
   ]
  },
  {
   "cell_type": "code",
   "execution_count": 14,
   "id": "76b42b72",
   "metadata": {},
   "outputs": [
    {
     "name": "stdout",
     "output_type": "stream",
     "text": [
      "eoaa"
     ]
    }
   ],
   "source": [
    "for palavra in s:\n",
    "    for c in palavra:\n",
    "        if c in 'aeiou':\n",
    "            print(c,end='')"
   ]
  },
  {
   "cell_type": "markdown",
   "id": "d21b3a50",
   "metadata": {},
   "source": [
    "# 10"
   ]
  },
  {
   "cell_type": "code",
   "execution_count": 15,
   "id": "27974f75",
   "metadata": {},
   "outputs": [],
   "source": [
    "nome = 'João'\n",
    "sobrenome = 'da silva'\n",
    "idade = 25\n",
    "cidade = 'São Paulo'\n",
    "ddd = '11'\n",
    "telefone = '3333-3333'"
   ]
  },
  {
   "cell_type": "code",
   "execution_count": 22,
   "id": "a9e678f8",
   "metadata": {},
   "outputs": [
    {
     "name": "stdout",
     "output_type": "stream",
     "text": [
      "João da silva\n"
     ]
    }
   ],
   "source": [
    "print(nome + ' ' + sobrenome)"
   ]
  },
  {
   "cell_type": "code",
   "execution_count": 23,
   "id": "90c5ee18",
   "metadata": {},
   "outputs": [
    {
     "name": "stdout",
     "output_type": "stream",
     "text": [
      "(11) 3333-3333\n"
     ]
    }
   ],
   "source": [
    "print(f'({ddd}) {telefone}')"
   ]
  },
  {
   "cell_type": "code",
   "execution_count": 24,
   "id": "e48cd51d",
   "metadata": {},
   "outputs": [
    {
     "name": "stdout",
     "output_type": "stream",
     "text": [
      "Idade: 25\n"
     ]
    }
   ],
   "source": [
    "print(f'Idade: {idade}')"
   ]
  },
  {
   "cell_type": "code",
   "execution_count": 25,
   "id": "1854909f",
   "metadata": {},
   "outputs": [
    {
     "name": "stdout",
     "output_type": "stream",
     "text": [
      "Cidade: São Paulo\n"
     ]
    }
   ],
   "source": [
    "print(f'Cidade: {cidade}')"
   ]
  },
  {
   "cell_type": "code",
   "execution_count": null,
   "id": "48e71ef7",
   "metadata": {},
   "outputs": [],
   "source": []
  },
  {
   "cell_type": "code",
   "execution_count": null,
   "id": "1788e2b5",
   "metadata": {},
   "outputs": [],
   "source": []
  },
  {
   "cell_type": "code",
   "execution_count": null,
   "id": "ad20b2da",
   "metadata": {},
   "outputs": [],
   "source": []
  },
  {
   "cell_type": "code",
   "execution_count": null,
   "id": "098596c6",
   "metadata": {},
   "outputs": [],
   "source": []
  },
  {
   "cell_type": "code",
   "execution_count": null,
   "id": "e7803ace",
   "metadata": {},
   "outputs": [],
   "source": []
  },
  {
   "cell_type": "code",
   "execution_count": 17,
   "id": "1d07c289",
   "metadata": {},
   "outputs": [
    {
     "name": "stdout",
     "output_type": "stream",
     "text": [
      "(11) 3333-3333\n"
     ]
    }
   ],
   "source": [
    "print(f'({ddd}) {telefone}')"
   ]
  },
  {
   "cell_type": "code",
   "execution_count": null,
   "id": "3692ed40",
   "metadata": {},
   "outputs": [],
   "source": []
  }
 ],
 "metadata": {
  "kernelspec": {
   "display_name": "Python 3",
   "language": "python",
   "name": "python3"
  },
  "language_info": {
   "codemirror_mode": {
    "name": "ipython",
    "version": 3
   },
   "file_extension": ".py",
   "mimetype": "text/x-python",
   "name": "python",
   "nbconvert_exporter": "python",
   "pygments_lexer": "ipython3",
   "version": "3.8.8"
  }
 },
 "nbformat": 4,
 "nbformat_minor": 5
}
