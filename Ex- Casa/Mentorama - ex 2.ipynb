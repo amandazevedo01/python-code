{
 "cells": [
  {
   "cell_type": "markdown",
   "id": "e66482d3",
   "metadata": {},
   "source": [
    "# Exercicios Modulo 2"
   ]
  },
  {
   "cell_type": "code",
   "execution_count": null,
   "id": "dc2c717e",
   "metadata": {},
   "outputs": [],
   "source": []
  },
  {
   "cell_type": "markdown",
   "id": "912d03fd",
   "metadata": {},
   "source": [
    "### Exercicio 1\n"
   ]
  },
  {
   "cell_type": "code",
   "execution_count": null,
   "id": "9dc56d88",
   "metadata": {},
   "outputs": [],
   "source": [
    "pessoas = []\n",
    "while True:\n",
    "    dic = {}\n",
    "    nome = str(input('Digite seu nome: '))\n",
    "    sexo = str(input('Digite seu sexo: F/M '))\n",
    "    while sexo not in 'FfMm':\n",
    "        print('por favor, digite corretamente F para Feminono ou M para Masculino')\n",
    "        sexo = str(input('Digite seu sexo: F/M ')) \n",
    "        \n",
    "    idade = int(input('Digite seu idade: '))\n",
    "    \n",
    "    dic['Nome'] = nome\n",
    "    dic['Sexo'] = sexo\n",
    "    dic['Idade'] = idade\n",
    "    pessoas.append(dic)\n",
    "    \n",
    "    p= str(input('Deseja Parar? [S/N]'))\n",
    "    if p in 'Ss':\n",
    "        break\n",
    "dic    \n",
    "pessoas"
   ]
  },
  {
   "cell_type": "code",
   "execution_count": null,
   "id": "662ba621",
   "metadata": {},
   "outputs": [],
   "source": [
    "dic['Idade']\n",
    "#pessoas[1]"
   ]
  },
  {
   "cell_type": "code",
   "execution_count": null,
   "id": "5c92dba4",
   "metadata": {},
   "outputs": [],
   "source": [
    "# QUANTIDADE DE PESSOAS CADASTRADAS\n",
    "len(pessoas) "
   ]
  },
  {
   "cell_type": "code",
   "execution_count": null,
   "id": "bb5d2b95",
   "metadata": {},
   "outputs": [],
   "source": [
    "# MEDIA DAS IDADES\n",
    "idade = 0\n",
    "for c in range (0,len(pessoas)):\n",
    "    idade = idade +pessoas[c]['Idade']    \n",
    "    #print(pessoas[c]['Idade'])\n",
    "#print(idade)\n",
    "MEDIA = idade/len(pessoas)   \n",
    "MEDIA"
   ]
  },
  {
   "cell_type": "code",
   "execution_count": null,
   "id": "4b751594",
   "metadata": {},
   "outputs": [],
   "source": [
    "# MULHERES CADASTRADAS\n",
    "mulheres = []\n",
    "for c in range (0,len(pessoas)):\n",
    "    #print(pessoas[c]['Sexo'])\n",
    "    if 'F' in pessoas[c]['Sexo']:\n",
    "        mulheres.append(pessoas[c])\n",
    "mulheres\n",
    "            "
   ]
  },
  {
   "cell_type": "code",
   "execution_count": null,
   "id": "aaff2ed1",
   "metadata": {},
   "outputs": [],
   "source": [
    "# IDADES ACIMA DA MEDIA\n",
    "acima_media = []\n",
    "for c in range (0,len(pessoas)):\n",
    "    if pessoas[c]['Idade'] >MEDIA :\n",
    "        acima_media.append(pessoas[c])\n",
    "acima_media           "
   ]
  },
  {
   "cell_type": "markdown",
   "id": "e7e30eca",
   "metadata": {},
   "source": [
    "### Exercicio 2"
   ]
  },
  {
   "cell_type": "code",
   "execution_count": null,
   "id": "80b3c959",
   "metadata": {},
   "outputs": [],
   "source": [
    "tupla = (1,2,3,4)\n",
    "tupla[1]"
   ]
  },
  {
   "cell_type": "markdown",
   "id": "cf62a992",
   "metadata": {},
   "source": [
    "### Exercicio 3"
   ]
  },
  {
   "cell_type": "code",
   "execution_count": null,
   "id": "aea5cfaf",
   "metadata": {},
   "outputs": [],
   "source": [
    "tupla = ('Aluno','universidade','nota','resultado')\n",
    "w,x,y,z = tupla\n",
    "print(type(w))\n",
    "print(type(x))\n",
    "print(type(y))\n",
    "print(type(z))"
   ]
  },
  {
   "cell_type": "markdown",
   "id": "b9328579",
   "metadata": {},
   "source": [
    "### Exercicio 4"
   ]
  },
  {
   "cell_type": "code",
   "execution_count": null,
   "id": "f56519b5",
   "metadata": {},
   "outputs": [],
   "source": [
    "setx = set(['apple','mango'])\n",
    "sety = set(['mango','orange'])\n",
    "setz = set(['mango'])\n"
   ]
  },
  {
   "cell_type": "code",
   "execution_count": null,
   "id": "0e81982d",
   "metadata": {},
   "outputs": [],
   "source": [
    "união = setx | sety | setz\n",
    "print(união)"
   ]
  },
  {
   "cell_type": "code",
   "execution_count": null,
   "id": "d40d105b",
   "metadata": {},
   "outputs": [],
   "source": [
    "intercessão = setx & sety & setz\n",
    "print(intercessão)"
   ]
  },
  {
   "cell_type": "code",
   "execution_count": null,
   "id": "5bddc643",
   "metadata": {},
   "outputs": [],
   "source": [
    "setx.issubset(sety)\n",
    "setx.issubset(setz)\n",
    "sety.issubset(setz)\n"
   ]
  },
  {
   "cell_type": "code",
   "execution_count": null,
   "id": "78079955",
   "metadata": {},
   "outputs": [],
   "source": [
    "setx - sety"
   ]
  },
  {
   "cell_type": "markdown",
   "id": "a0c0b620",
   "metadata": {},
   "source": [
    "### Exercicio 5"
   ]
  },
  {
   "cell_type": "code",
   "execution_count": null,
   "id": "e36e61fd",
   "metadata": {},
   "outputs": [],
   "source": [
    "from collections import deque\n",
    "DicionarioOrdenado = deque([('color1','Red'),('color2','Green'),('color3','Blue')])"
   ]
  },
  {
   "cell_type": "code",
   "execution_count": null,
   "id": "c7e20ba0",
   "metadata": {},
   "outputs": [],
   "source": [
    "DicionarioOrdenado"
   ]
  },
  {
   "cell_type": "code",
   "execution_count": null,
   "id": "0ca5d4b1",
   "metadata": {},
   "outputs": [],
   "source": [
    "DicionarioOrdenado.insert(0,[('color4','Orange')])\n",
    "                          "
   ]
  },
  {
   "cell_type": "code",
   "execution_count": null,
   "id": "721289ee",
   "metadata": {},
   "outputs": [],
   "source": [
    "DicionarioOrdenado"
   ]
  },
  {
   "cell_type": "code",
   "execution_count": null,
   "id": "234a3e01",
   "metadata": {},
   "outputs": [],
   "source": [
    "DicionarioOrdenado = [('color1','Red'),('color2','Green'),('color3','Blue')]"
   ]
  },
  {
   "cell_type": "code",
   "execution_count": null,
   "id": "ebe80bb8",
   "metadata": {},
   "outputs": [],
   "source": [
    "DicionarioOrdenado"
   ]
  },
  {
   "cell_type": "code",
   "execution_count": null,
   "id": "947c3542",
   "metadata": {},
   "outputs": [],
   "source": [
    "DicionarioOrdenado.insert(0,[('color4','Orange')])\n",
    "                          "
   ]
  },
  {
   "cell_type": "code",
   "execution_count": null,
   "id": "1fd85cc3",
   "metadata": {},
   "outputs": [],
   "source": [
    "DicionarioOrdenado"
   ]
  },
  {
   "cell_type": "markdown",
   "id": "28946257",
   "metadata": {},
   "source": [
    "### EXERCICIO 6"
   ]
  },
  {
   "cell_type": "code",
   "execution_count": null,
   "id": "eceade56",
   "metadata": {},
   "outputs": [],
   "source": [
    "def right_justify(string):\n",
    "    i = 1\n",
    "    j = 70 - len(string)\n",
    "    while i<= j:\n",
    "        string = ' ' + string\n",
    "        i += 1\n",
    "    return print(string)\n",
    "\n",
    "right_justify('string')"
   ]
  },
  {
   "cell_type": "markdown",
   "id": "9c4c3dde",
   "metadata": {},
   "source": [
    "### EXERCICIO 7"
   ]
  },
  {
   "cell_type": "code",
   "execution_count": null,
   "id": "719d250e",
   "metadata": {},
   "outputs": [],
   "source": [
    "def do_twice(f, f1=0):\n",
    "    f(f1)\n",
    "    f(f1)\n",
    "\n",
    "def print_valor(string):\n",
    "    print(string)\n",
    "    \n",
    "\n",
    "    \n",
    "    \n",
    "    \n",
    "do_twice(print_valor, 'Tudo bem?')\n"
   ]
  },
  {
   "cell_type": "code",
   "execution_count": null,
   "id": "884a4f7d",
   "metadata": {},
   "outputs": [],
   "source": [
    "do_twice(quadrado, 2)"
   ]
  },
  {
   "cell_type": "code",
   "execution_count": null,
   "id": "ca8013a6",
   "metadata": {},
   "outputs": [],
   "source": [
    "#a - \n",
    "def print_spam(s):\n",
    "    print('spam')\n",
    "    \n",
    "do_twice(print_spam)\n"
   ]
  },
  {
   "cell_type": "code",
   "execution_count": null,
   "id": "0d1957ab",
   "metadata": {},
   "outputs": [],
   "source": [
    "#b\n",
    "def do_twice(f, f1=0,f2=0):\n",
    "    f(f1,f2)\n",
    "    f(f1,f2)\n",
    "    \n",
    "def soma(a=0,b=0):\n",
    "    soma=a+b\n",
    "    print(soma)\n",
    "    \n",
    "do_twice(soma,2,3)\n",
    "do_twice(soma,2)\n",
    "do_twice(soma,84932,2)"
   ]
  },
  {
   "cell_type": "markdown",
   "id": "0bd032ae",
   "metadata": {},
   "source": [
    "### EXERCICIO 8"
   ]
  },
  {
   "cell_type": "code",
   "execution_count": 26,
   "id": "d8252f38",
   "metadata": {},
   "outputs": [],
   "source": [
    "# Módulo entrada.py\n",
    "def mensagem(mensagem):\n",
    "    v=str(input(mensagem))\n",
    "    a=int(input('n1'))\n",
    "    b=int(input('n2'))\n",
    "    m = a*b\n",
    "    print(f'Sua mensagem foi{a} e a multiplicacao do valor {a} e {b} foi {m}')\n",
    "          \n",
    "\n",
    "            \n",
    "            \n",
    "            \n"
   ]
  },
  {
   "cell_type": "code",
   "execution_count": 28,
   "id": "f78ce4e3",
   "metadata": {},
   "outputs": [
    {
     "name": "stdout",
     "output_type": "stream",
     "text": [
      "aa\n",
      "n12\n",
      "n24\n",
      "Sua mensagem foi2 e a multiplicacao do valor 2 e 4 foi 8\n"
     ]
    }
   ],
   "source": [
    "mensagem('a')"
   ]
  },
  {
   "cell_type": "markdown",
   "id": "b125f788",
   "metadata": {},
   "source": [
    "### EXERCICIO 9"
   ]
  },
  {
   "cell_type": "code",
   "execution_count": 2,
   "id": "3642ae81",
   "metadata": {},
   "outputs": [
    {
     "name": "stdout",
     "output_type": "stream",
     "text": [
      "Quais valores voce deseja colocae na lista?z\n",
      "Deseja parar ? S/Nn\n",
      "Quais valores voce deseja colocae na lista?d\n",
      "Deseja parar ? S/Nn\n",
      "Quais valores voce deseja colocae na lista?3\n",
      "Deseja parar ? S/Nn\n",
      "Quais valores voce deseja colocae na lista?4\n",
      "Deseja parar ? S/Nn\n",
      "Quais valores voce deseja colocae na lista?9\n",
      "Deseja parar ? S/Nn\n",
      "Quais valores voce deseja colocae na lista?m\n",
      "Deseja parar ? S/Ns\n"
     ]
    }
   ],
   "source": [
    "lista = []\n",
    "while True:\n",
    "    a = input('Quais valores voce deseja colocae na lista?')\n",
    "    lista.append(a)\n",
    "    s = str(input('Deseja parar ? S/N'))\n",
    "    if s in 'Ss':\n",
    "        break"
   ]
  },
  {
   "cell_type": "code",
   "execution_count": 3,
   "id": "5074805a",
   "metadata": {},
   "outputs": [
    {
     "data": {
      "text/plain": [
       "['z', 'd', '3', '4', '9', 'm']"
      ]
     },
     "execution_count": 3,
     "metadata": {},
     "output_type": "execute_result"
    }
   ],
   "source": [
    "lista"
   ]
  },
  {
   "cell_type": "code",
   "execution_count": 46,
   "id": "b3ebe7b3",
   "metadata": {},
   "outputs": [
    {
     "name": "stdout",
     "output_type": "stream",
     "text": [
      "['z', 'd', 'm', '9', '4', '3']\n"
     ]
    }
   ],
   "source": [
    "lista_letras = []\n",
    "lista_n = []\n",
    "for c,v in enumerate(lista):\n",
    "    #print(c,v)\n",
    "    if (v.isnumeric()) == False:\n",
    "        lista_letras.append(v)\n",
    "    else:\n",
    "        lista_n.append(v)\n",
    "        lista_n.sort(reverse=True)\n",
    "        \n",
    "print(lista_letras+lista_n)"
   ]
  },
  {
   "cell_type": "code",
   "execution_count": 45,
   "id": "421328e4",
   "metadata": {},
   "outputs": [
    {
     "name": "stdout",
     "output_type": "stream",
     "text": [
      "['z', 'd', '3', '4', '9', 'm', 'z', 'd', 'm']\n"
     ]
    }
   ],
   "source": [
    "letras = []\n",
    "numeros = []\n",
    "def separarletrasnumeros(list):\n",
    "    for item in list:\n",
    "        if item in range(0,100):\n",
    "            numeros.append(item)\n",
    "            numeros.sort(reverse=True)\n",
    "        else:\n",
    "            letras.append(item)\n",
    "separarletrasnumeros(lista_tot)\n",
    "separarletrasnumeros(lista_letras)\n",
    "print(letras+numeros)"
   ]
  },
  {
   "cell_type": "code",
   "execution_count": 49,
   "id": "c1e71729",
   "metadata": {},
   "outputs": [
    {
     "name": "stdout",
     "output_type": "stream",
     "text": [
      "z\n",
      "d\n",
      "m\n"
     ]
    }
   ],
   "source": [
    "for c,v in enumerate(lista):\n",
    "    #print(c,v)\n",
    "    print (v.isnumeric())\n",
    "        print(v)\n",
    "     "
   ]
  }
 ],
 "metadata": {
  "kernelspec": {
   "display_name": "Python 3",
   "language": "python",
   "name": "python3"
  },
  "language_info": {
   "codemirror_mode": {
    "name": "ipython",
    "version": 3
   },
   "file_extension": ".py",
   "mimetype": "text/x-python",
   "name": "python",
   "nbconvert_exporter": "python",
   "pygments_lexer": "ipython3",
   "version": "3.8.8"
  }
 },
 "nbformat": 4,
 "nbformat_minor": 5
}
