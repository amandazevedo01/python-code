{
 "cells": [
  {
   "cell_type": "markdown",
   "id": "125b63db",
   "metadata": {},
   "source": [
    "# 1 CLASSE bola"
   ]
  },
  {
   "cell_type": "code",
   "execution_count": 4,
   "id": "1e2afadd",
   "metadata": {},
   "outputs": [],
   "source": [
    "# declarando uma classe\n",
    "class Bola:\n",
    "    def __init__(self):\n",
    "        self.cor='azul'\n",
    "        self.circunferencia=2.5\n",
    "        self.material='tecido'\n",
    "    def trocaCor(self):\n",
    "        self.cor = str(input('Qual cor é a bola?'))\n",
    "        \n",
    "    def mostraCor(self):\n",
    "        print(\"A cor da bola é\",self.cor)\n"
   ]
  },
  {
   "cell_type": "code",
   "execution_count": 5,
   "id": "abae61f5",
   "metadata": {},
   "outputs": [
    {
     "data": {
      "text/plain": [
       "'azul'"
      ]
     },
     "execution_count": 5,
     "metadata": {},
     "output_type": "execute_result"
    }
   ],
   "source": [
    "bola = Bola()\n",
    "bola.cor"
   ]
  },
  {
   "cell_type": "code",
   "execution_count": 6,
   "id": "2a734ecf",
   "metadata": {},
   "outputs": [
    {
     "name": "stdout",
     "output_type": "stream",
     "text": [
      "Qual cor é a bola?amarela\n"
     ]
    }
   ],
   "source": [
    "bola.trocaCor()"
   ]
  },
  {
   "cell_type": "code",
   "execution_count": 7,
   "id": "6a49e3e0",
   "metadata": {},
   "outputs": [
    {
     "name": "stdout",
     "output_type": "stream",
     "text": [
      "A cor da bola é amarela\n"
     ]
    }
   ],
   "source": [
    "bola.mostraCor()"
   ]
  },
  {
   "cell_type": "markdown",
   "id": "59da71b2",
   "metadata": {},
   "source": [
    "# 2 Classe Quadrado"
   ]
  },
  {
   "cell_type": "code",
   "execution_count": 8,
   "id": "57b5cb20",
   "metadata": {},
   "outputs": [],
   "source": [
    "class Quadrado: \n",
    "    def __init__(self):\n",
    "        self.tamanhoLado=1\n",
    "        \n",
    "    def mudarValorLado(self):\n",
    "        self.tamanhoLado = float(input('Qual novo valor?'))\n",
    "\n",
    "    def retornarValor(self):\n",
    "        print('O valor do lado é', self.tamanhoLado)\n",
    "    def area(self):\n",
    "        area = self.tamanhoLado**2\n",
    "        return area  \n"
   ]
  },
  {
   "cell_type": "code",
   "execution_count": 9,
   "id": "4fb5d60c",
   "metadata": {},
   "outputs": [
    {
     "data": {
      "text/plain": [
       "1"
      ]
     },
     "execution_count": 9,
     "metadata": {},
     "output_type": "execute_result"
    }
   ],
   "source": [
    "x = Quadrado()\n",
    "x.tamanhoLado\n"
   ]
  },
  {
   "cell_type": "code",
   "execution_count": 10,
   "id": "630578ea",
   "metadata": {},
   "outputs": [
    {
     "name": "stdout",
     "output_type": "stream",
     "text": [
      "Qual novo valor?2\n"
     ]
    }
   ],
   "source": [
    "x.mudarValorLado()"
   ]
  },
  {
   "cell_type": "code",
   "execution_count": 11,
   "id": "55442527",
   "metadata": {},
   "outputs": [
    {
     "name": "stdout",
     "output_type": "stream",
     "text": [
      "O valor do lado é 2.0\n"
     ]
    }
   ],
   "source": [
    "x.retornarValor()"
   ]
  },
  {
   "cell_type": "code",
   "execution_count": 12,
   "id": "defee516",
   "metadata": {},
   "outputs": [
    {
     "data": {
      "text/plain": [
       "4.0"
      ]
     },
     "execution_count": 12,
     "metadata": {},
     "output_type": "execute_result"
    }
   ],
   "source": [
    "x.area()"
   ]
  },
  {
   "cell_type": "markdown",
   "id": "272e19fc",
   "metadata": {},
   "source": [
    "# 3 Classe Retangulo"
   ]
  },
  {
   "cell_type": "code",
   "execution_count": 13,
   "id": "0ca93a86",
   "metadata": {},
   "outputs": [],
   "source": [
    "class Retangulo:\n",
    "    def __init__(self):\n",
    "        self.LadoA = 1\n",
    "        self.LadoB = 1\n",
    "    \n",
    "    def mudarLado(self):\n",
    "        self.LadoA = float(input('Qual vai ser a Altura?'))\n",
    "        self.LadoB = float(input('Qual vai ser a Comprimento?'))\n",
    "    def retornaValores(self):\n",
    "        print(f'O valor da Altura é {self.LadoA} e o do Comprimento é {self.LadoB}')\n",
    "    def area(self):\n",
    "        area = self.LadoA * self.LadoB\n",
    "        return area\n",
    "    def perimentro(self):\n",
    "        perimetro = 2*(self.LadoA + self.LadoB)\n",
    "        return perimetro"
   ]
  },
  {
   "cell_type": "code",
   "execution_count": 14,
   "id": "03ec583b",
   "metadata": {},
   "outputs": [
    {
     "data": {
      "text/plain": [
       "1"
      ]
     },
     "execution_count": 14,
     "metadata": {},
     "output_type": "execute_result"
    }
   ],
   "source": [
    "X = Retangulo()\n",
    "X.LadoA"
   ]
  },
  {
   "cell_type": "code",
   "execution_count": 15,
   "id": "3c17b071",
   "metadata": {},
   "outputs": [
    {
     "data": {
      "text/plain": [
       "1"
      ]
     },
     "execution_count": 15,
     "metadata": {},
     "output_type": "execute_result"
    }
   ],
   "source": [
    "X.LadoB"
   ]
  },
  {
   "cell_type": "code",
   "execution_count": 17,
   "id": "a769a91c",
   "metadata": {},
   "outputs": [
    {
     "name": "stdout",
     "output_type": "stream",
     "text": [
      "Qual vai ser a Altura?2\n",
      "Qual vai ser a Comprimento?2\n"
     ]
    }
   ],
   "source": [
    "X.mudarLado()"
   ]
  },
  {
   "cell_type": "code",
   "execution_count": 18,
   "id": "6194cf0d",
   "metadata": {},
   "outputs": [
    {
     "name": "stdout",
     "output_type": "stream",
     "text": [
      "O valor da Altura é 2.0 e o do Comprimento é 2.0\n"
     ]
    }
   ],
   "source": [
    "X.retornaValores()"
   ]
  },
  {
   "cell_type": "code",
   "execution_count": 19,
   "id": "93813e23",
   "metadata": {},
   "outputs": [
    {
     "data": {
      "text/plain": [
       "4.0"
      ]
     },
     "execution_count": 19,
     "metadata": {},
     "output_type": "execute_result"
    }
   ],
   "source": [
    "X.area()"
   ]
  },
  {
   "cell_type": "code",
   "execution_count": 20,
   "id": "613b2a7c",
   "metadata": {},
   "outputs": [
    {
     "data": {
      "text/plain": [
       "8.0"
      ]
     },
     "execution_count": 20,
     "metadata": {},
     "output_type": "execute_result"
    }
   ],
   "source": [
    "X.perimentro()"
   ]
  },
  {
   "cell_type": "code",
   "execution_count": 21,
   "id": "11421912",
   "metadata": {},
   "outputs": [],
   "source": [
    "class material(Retangulo):\n",
    "    def __init__(self):\n",
    "        self.pisoLargura =1\n",
    "        self.pisoComprimento = 1\n",
    "        self.rodapeLargura =1\n",
    "        self.rodapeComprimento = 1\n",
    "    def piso(self):\n",
    "        self.pisoLargura = float(input('qual valor da Largura do Piso?'))\n",
    "        self.pisoComprimento = float(input('qual valor da Comprimento do Piso?'))\n",
    "              \n",
    "    def area(self):\n",
    "        area = self.pisoLargura * self.pisoComprimento\n",
    "        return area\n",
    "    def perimentro(self):\n",
    "        perimetro = 2*(self.pisoLargura + self.pisoComprimento)\n",
    "        return perimetro\n",
    "    \n",
    "    def qntdpiso(self):\n",
    "        qntpiso = X.area() / material.area()  \n",
    "        return qntpiso\n",
    "    \n",
    "    def qntdRodape(self):\n",
    "        qntdRodape = X.perimentro() / material.perimentro()  \n",
    "        return qntdRodape\n",
    "    \n",
    "material = material()\n",
    "X = Retangulo()\n"
   ]
  },
  {
   "cell_type": "code",
   "execution_count": 22,
   "id": "8bcb6ffa",
   "metadata": {},
   "outputs": [
    {
     "name": "stdout",
     "output_type": "stream",
     "text": [
      "Ola, seja bem vindo, Vamos começar ?\n",
      "Primeiro sobre o ambiente: \n",
      "Qual vai ser a Altura?1\n",
      "Qual vai ser a Comprimento?2\n",
      "{None}\n",
      "Agora sobre os pisos: \n",
      "qual valor da Largura do Piso?2\n",
      "qual valor da Comprimento do Piso?3\n",
      "{None}\n",
      "A quantidade de piso é 0.3333333333333333\n",
      "-----------\n",
      "Agora sobre o Rodapé ?\n",
      "A quantidade de piso é 0.6\n"
     ]
    }
   ],
   "source": [
    "print('Ola, seja bem vindo, Vamos começar ?')\n",
    "print('Primeiro sobre o ambiente: ')\n",
    "print( {X.mudarLado()})\n",
    "print('Agora sobre os pisos: ')\n",
    "print( {material.piso()})\n",
    "print(f'A quantidade de piso é {material.qntdpiso()}')\n",
    "print('-----------')\n",
    "\n",
    "print('Agora sobre o Rodapé ?')\n",
    "print(f'A quantidade de piso é {material.qntdRodape()}')\n"
   ]
  },
  {
   "cell_type": "markdown",
   "id": "44321bdb",
   "metadata": {},
   "source": [
    "# 4 Classe Pesso"
   ]
  },
  {
   "cell_type": "code",
   "execution_count": 23,
   "id": "543a7a2a",
   "metadata": {},
   "outputs": [],
   "source": [
    "class Pessoa:\n",
    "    def __init__(self, nome, idade, peso, altura):\n",
    "        self.nome = nome\n",
    "        self.idade = idade\n",
    "        self.peso = peso\n",
    "        self.altura = altura\n",
    "\n",
    "    def envelhecer(self, anos):\n",
    "        self.idade += anos\n",
    "        return self.idade\n",
    "\n",
    "    def engordar(self, kilos):\n",
    "        self.peso += kilos\n",
    "\n",
    "    def emagrecer(self,peso_perdido):\n",
    "        self.peso -= peso_perdido\n",
    "\n",
    "    def crescer(self):\n",
    "        self.altura = self.crescer\n",
    "        if self.idade < 21:\n",
    "            self.altura += (0.05)*anos\n",
    "        return self.altura\n",
    "    def imprimenome(self):\n",
    "         print(self.nome, self.idade)\n"
   ]
  },
  {
   "cell_type": "code",
   "execution_count": 24,
   "id": "accf24ed",
   "metadata": {},
   "outputs": [],
   "source": [
    "x = Pessoa('Amanda',33,111,65)\n"
   ]
  },
  {
   "cell_type": "code",
   "execution_count": 25,
   "id": "0044cf93",
   "metadata": {},
   "outputs": [
    {
     "data": {
      "text/plain": [
       "35"
      ]
     },
     "execution_count": 25,
     "metadata": {},
     "output_type": "execute_result"
    }
   ],
   "source": [
    "x.envelhecer(2)"
   ]
  },
  {
   "cell_type": "code",
   "execution_count": 26,
   "id": "39fc7d54",
   "metadata": {},
   "outputs": [
    {
     "name": "stdout",
     "output_type": "stream",
     "text": [
      "Amanda 35\n"
     ]
    }
   ],
   "source": [
    "x.imprimenome()\n"
   ]
  },
  {
   "cell_type": "code",
   "execution_count": 27,
   "id": "c34166d6",
   "metadata": {},
   "outputs": [
    {
     "data": {
      "text/plain": [
       "<bound method Pessoa.crescer of <__main__.Pessoa object at 0x0000025E47FFE1C0>>"
      ]
     },
     "execution_count": 27,
     "metadata": {},
     "output_type": "execute_result"
    }
   ],
   "source": [
    "x.crescer()"
   ]
  },
  {
   "cell_type": "markdown",
   "id": "109ca3dd",
   "metadata": {},
   "source": [
    "# 5 Classe CARRO"
   ]
  },
  {
   "cell_type": "code",
   "execution_count": 28,
   "id": "f5914d7c",
   "metadata": {},
   "outputs": [],
   "source": [
    "class carro:\n",
    "    def __init__(self):\n",
    "        self.cor = 'vermelho'\n",
    "        self.marca = 'Fiat'\n",
    "        self.ano = 2020\n",
    "        \n",
    "    def mudarCor(self):\n",
    "        s = str(input(f'A cor do carro é, {self.cor} deseja alterar a cor ? [S/N]'))\n",
    "        if s in 'Ss':\n",
    "            self.cor= str(input('Qual a cor?  '))\n",
    "            return self.cor\n",
    "        else:\n",
    "            print('ok')\n",
    "\n",
    "    def mudarMarca(self):\n",
    "        s = str(input(f'A marca do carro é, {self.marca} deseja alterar a marca ? [S/N]'))\n",
    "        if s in 'Ss':\n",
    "            self.marca= str(input('Qual a marca?  '))\n",
    "            return self.marca\n",
    "        else:\n",
    "            print('ok')\n",
    "\n",
    "    def mudarAno(self):\n",
    "        s = str(input(f'O Ano do carro é, {self.ano} deseja alterar a ano ? [S/N]'))\n",
    "        if s in 'Ss':\n",
    "            self.ano= str(input('Qual a ano?  '))\n",
    "            return self.ano\n",
    "        else:\n",
    "            print('ok')\n",
    "    \n",
    "    def infoCarro(self):\n",
    "        print(f'O Ano do carro é, {self.ano} \\n a Marca do carro é {self.marca} \\n e a cor do carro é  {self.cor}')\n",
    "      "
   ]
  },
  {
   "cell_type": "code",
   "execution_count": 29,
   "id": "6ecb2033",
   "metadata": {},
   "outputs": [],
   "source": [
    "c = carro()"
   ]
  },
  {
   "cell_type": "code",
   "execution_count": 30,
   "id": "513b06a1",
   "metadata": {},
   "outputs": [
    {
     "name": "stdout",
     "output_type": "stream",
     "text": [
      "A cor do carro é, vermelho deseja alterar a cor ? [S/N]s\n",
      "Qual a cor?  azul\n"
     ]
    },
    {
     "data": {
      "text/plain": [
       "'azul'"
      ]
     },
     "execution_count": 30,
     "metadata": {},
     "output_type": "execute_result"
    }
   ],
   "source": [
    "c.mudarCor()"
   ]
  },
  {
   "cell_type": "code",
   "execution_count": 31,
   "id": "4c8dd326",
   "metadata": {},
   "outputs": [
    {
     "name": "stdout",
     "output_type": "stream",
     "text": [
      "A marca do carro é, Fiat deseja alterar a marca ? [S/N]s\n",
      "Qual a marca?  bmw\n"
     ]
    },
    {
     "data": {
      "text/plain": [
       "'bmw'"
      ]
     },
     "execution_count": 31,
     "metadata": {},
     "output_type": "execute_result"
    }
   ],
   "source": [
    "c.mudarMarca()"
   ]
  },
  {
   "cell_type": "code",
   "execution_count": 32,
   "id": "5090519c",
   "metadata": {},
   "outputs": [
    {
     "name": "stdout",
     "output_type": "stream",
     "text": [
      "O Ano do carro é, 2020 deseja alterar a ano ? [S/N]s\n",
      "Qual a ano?  2021\n"
     ]
    },
    {
     "data": {
      "text/plain": [
       "'2021'"
      ]
     },
     "execution_count": 32,
     "metadata": {},
     "output_type": "execute_result"
    }
   ],
   "source": [
    "c.mudarAno()"
   ]
  },
  {
   "cell_type": "code",
   "execution_count": 33,
   "id": "824a9846",
   "metadata": {},
   "outputs": [
    {
     "name": "stdout",
     "output_type": "stream",
     "text": [
      "O Ano do carro é, 2021 \n",
      " a Marca do carro é bmw \n",
      " e a cor do carro é  azul\n"
     ]
    }
   ],
   "source": [
    "c.infoCarro()"
   ]
  },
  {
   "cell_type": "markdown",
   "id": "2ccdb31d",
   "metadata": {},
   "source": [
    "# 6 CLASSE CONTA CORRENTE "
   ]
  },
  {
   "cell_type": "code",
   "execution_count": 34,
   "id": "f013d0b9",
   "metadata": {},
   "outputs": [],
   "source": [
    "class ContaCorrente:\n",
    "    def __init__(self,num,nome,saldo=0):\n",
    "        self.numeroConta= num\n",
    "        self.nomeCorrentista = nome\n",
    "        self.saldo= saldo\n",
    "        \n",
    "    def alterarNome(self):\n",
    "        nome = str(input('Qual sera o novo nome:'))\n",
    "        print(f'O novo nome é {nome}')\n",
    "    \n",
    "    def deposito(self):\n",
    "        print(f'Atualmente seu saldo é de {self.saldo}')\n",
    "        deposito = float(input('Qual valor do deposito?'))\n",
    "        self.saldo = self.saldo + deposito\n",
    "        print(f'O novo saldo é de {self.saldo}')\n",
    "        "
   ]
  },
  {
   "cell_type": "code",
   "execution_count": 35,
   "id": "9d8eb7fd",
   "metadata": {},
   "outputs": [],
   "source": [
    "cc = ContaCorrente(145,'Amanda')"
   ]
  },
  {
   "cell_type": "code",
   "execution_count": 36,
   "id": "eb04f62e",
   "metadata": {},
   "outputs": [
    {
     "name": "stdout",
     "output_type": "stream",
     "text": [
      "Qual sera o novo nome:Ana\n",
      "O novo nome é Ana\n"
     ]
    }
   ],
   "source": [
    "cc.alterarNome()"
   ]
  },
  {
   "cell_type": "code",
   "execution_count": 37,
   "id": "9b454506",
   "metadata": {},
   "outputs": [
    {
     "name": "stdout",
     "output_type": "stream",
     "text": [
      "Atualmente seu saldo é de 0\n",
      "Qual valor do deposito?23\n",
      "O novo saldo é de 23.0\n"
     ]
    }
   ],
   "source": [
    "cc.deposito()"
   ]
  },
  {
   "cell_type": "code",
   "execution_count": 38,
   "id": "9bda97c0",
   "metadata": {},
   "outputs": [
    {
     "name": "stdout",
     "output_type": "stream",
     "text": [
      "Atualmente seu saldo é de 23.0\n",
      "Qual valor do deposito?2\n",
      "O novo saldo é de 25.0\n"
     ]
    }
   ],
   "source": [
    "cc.deposito()"
   ]
  },
  {
   "cell_type": "markdown",
   "id": "b1f1f8af",
   "metadata": {},
   "source": [
    "# 7 CLASSE TV"
   ]
  },
  {
   "cell_type": "code",
   "execution_count": 1,
   "id": "02da9328",
   "metadata": {},
   "outputs": [],
   "source": [
    "class Tv:\n",
    "\n",
    "    def __init__(self, canal = 1, volume = 50):\n",
    "        self.canal = canal\n",
    "        self.volume = volume\n",
    "      \n",
    "\n",
    "\n",
    "\n",
    "    def Canal(self):\n",
    "        while True:\n",
    "            s=str(input(f'O canal está no {self.canal}, deseja mudar ?'))\n",
    "            if s in 'Ss':\n",
    "                canal = (input('Qual numero do canal?'))\n",
    "                if canal.isnumeric() == True:\n",
    "                    canal = int(canal)\n",
    "                    if canal <=0 or canal >=60:\n",
    "                        print('este canal nao existe')\n",
    "                    else: \n",
    "                        \n",
    "                        self.canal= canal\n",
    "                        print(f'O canal foi trocado para {self.canal}')\n",
    "                    \n",
    "                        break\n",
    "              \n",
    "                else:\n",
    "                    print('O valor deve ser apenas numeros.')\n",
    "\n",
    "            #canal = int(input('Qual numero do canal?'))            \n",
    "            else:\n",
    "                break\n",
    "\n",
    "\n",
    "    def mudarCanal(self, numero):\n",
    "        if numero >=1 and numero <=50:\n",
    "            print(f'Canal {self.canal}')\n",
    "            self.cont += 1\n",
    "            \n",
    "            \n",
    "            \n",
    "    \n",
    "    def volume(self,numero):\n",
    "        if numero.isdigit():\n",
    "            num = int(numero)\n",
    "            if num >= 0 and num <=50:\n",
    "                self.volume = num\n",
    "            else:\n",
    "                print('Escolha um numero entre 1 e 100')\n",
    "        else:\n",
    "            print('O valor deve ser apenas numeros.')\n",
    "\n",
    "\n",
    "    def mudarVolume(self, numero):\n",
    "        if numero >=1 and numero <=50:\n",
    "            print(f'Canal {self.canal}')\n",
    "            self.cont += 1\n",
    "            \n",
    "\n",
    "\n"
   ]
  },
  {
   "cell_type": "code",
   "execution_count": 2,
   "id": "9203d6cd",
   "metadata": {},
   "outputs": [],
   "source": [
    "n = Tv()"
   ]
  },
  {
   "cell_type": "code",
   "execution_count": null,
   "id": "baf08b93",
   "metadata": {},
   "outputs": [
    {
     "name": "stdout",
     "output_type": "stream",
     "text": [
      "O canal está no 1, deseja mudar ?s\n",
      "Qual numero do canal?98\n",
      "este canal nao existe\n"
     ]
    }
   ],
   "source": [
    "n.Canal()"
   ]
  },
  {
   "cell_type": "markdown",
   "id": "28cc08f2",
   "metadata": {},
   "source": [
    "# 8 CLASSE BOMBA DE COMBUSTIVEL"
   ]
  },
  {
   "cell_type": "code",
   "execution_count": 48,
   "id": "b50ea60a",
   "metadata": {},
   "outputs": [],
   "source": [
    "class bombaCombustivel:\n",
    "    \n",
    "    def __init__(self,tipo,valor,qnt=100):\n",
    "        self.tipoCombustivel = tipo\n",
    "        self.valorLitro = valor\n",
    "        self.quantidadeCombustivel = qnt \n",
    "        self.GasolinaporLitro = 5.1\n",
    "        \n",
    "    def abastecerPorValor(self):\n",
    "        \n",
    "        v = int(input('Qual valor deseja abastecer ?\\n R$:'))\n",
    "        abastecido = v/self.GasolinaporLitro\n",
    "        print(f'foi abastecido {abastecido:,.2f} litros')\n",
    "        self.quantidadeCombustivel -= abastecido\n",
    "        print(f'Total da bomba { self.quantidadeCombustivel}')\n",
    "    \n",
    "    def abastecerPorLitro(self):\n",
    "        \n",
    "        v = int(input('Qual valor deseja abastecer ?\\n Litros:'))\n",
    "        abastecidol = v*self.GasolinaporLitro\n",
    "        print(f'foi abastecido {abastecidol:,.2f} reais')\n",
    "        self.quantidadeCombustivel -= abastecidol\n",
    "        print(f'Total da bomba { self.quantidadeCombustivel}')\n",
    "    \n",
    "    def alterarValor(self):\n",
    "        s=str(input(f'O valor atual da Gasolina x Litro é de {self.GasolinaporLitro} deseja alterar ? [S/N]'))\n",
    "        if s in 'Ss':\n",
    "            self.GasolinaporLitro = int(input('Qual sera o novo valor ?'))\n",
    "            print(f'valor atualizado {self.GasolinaporLitro}')\n",
    "            \n",
    "    def altearTipo(self):\n",
    "        s=str(input(f'O tipo atual da bomba é  {self.tipoCombustivel} deseja alterar ? [S/N]'))\n",
    "        if s in 'Ss':\n",
    "            self.tipoCombustivel = str(input('Qual sera o novo valor ?'))\n",
    "            print(f'valor atualizado {self.tipoCombustivel}') \n",
    "    \n",
    "    def alterarQuantidadeCombustivel(self):\n",
    "        s=str(input(f'A quantidade atual de litros da bomba é  {self.quantidadeCombustivel} deseja alterar ? [S/N]'))\n",
    "        if s in 'Ss':\n",
    "            self.quantidadeCombustivel = float(input('Qual sera o novo valor ?'))\n",
    "            print(f'valor atualizado {self.quantidadeCombustivel}') \n",
    "    \n",
    "                \n",
    "        "
   ]
  },
  {
   "cell_type": "code",
   "execution_count": 50,
   "id": "218821ca",
   "metadata": {},
   "outputs": [],
   "source": [
    "gas=bombaCombustivel('normal',40)"
   ]
  },
  {
   "cell_type": "code",
   "execution_count": 44,
   "id": "4f504bdd",
   "metadata": {},
   "outputs": [
    {
     "name": "stdout",
     "output_type": "stream",
     "text": [
      "Qual valor deseja abastecer ?\n",
      " R$:23\n",
      "foi abastecido 4.51 litros\n",
      "Total da bomba 95.49019607843137\n"
     ]
    }
   ],
   "source": [
    "gas.abastecerPorValor()"
   ]
  },
  {
   "cell_type": "code",
   "execution_count": 45,
   "id": "7a6d91cf",
   "metadata": {},
   "outputs": [
    {
     "name": "stdout",
     "output_type": "stream",
     "text": [
      "Qual valor deseja abastecer ?\n",
      " Litros:3\n",
      "foi abastecido 15.30 reais\n",
      "Total da bomba 80.19019607843137\n"
     ]
    }
   ],
   "source": [
    "gas.abastecerPorLitro()"
   ]
  },
  {
   "cell_type": "code",
   "execution_count": 46,
   "id": "c76efca3",
   "metadata": {},
   "outputs": [
    {
     "name": "stdout",
     "output_type": "stream",
     "text": [
      "O valor atual da Gasolina x Litro é de 5.1 deseja alterar ? [S/N]s\n",
      "Qual sera o novo valor ?6\n",
      "valor atualizado 6\n"
     ]
    }
   ],
   "source": [
    "gas.alterarValor()"
   ]
  },
  {
   "cell_type": "code",
   "execution_count": 47,
   "id": "1c2f8f39",
   "metadata": {},
   "outputs": [
    {
     "name": "stdout",
     "output_type": "stream",
     "text": [
      "O tipo atual da bomba é  normal deseja alterar ? [S/N]s\n",
      "Qual sera o novo valor ?gas\n",
      "valor atualizado gas\n"
     ]
    }
   ],
   "source": [
    "gas.altearTipo()"
   ]
  },
  {
   "cell_type": "code",
   "execution_count": 51,
   "id": "76be67fc",
   "metadata": {},
   "outputs": [
    {
     "name": "stdout",
     "output_type": "stream",
     "text": [
      "A quantidade atual de litros da bomba é  100 deseja alterar ? [S/N]s\n",
      "Qual sera o novo valor ?400\n",
      "valor atualizado 400.0\n"
     ]
    }
   ],
   "source": [
    "gas.alterarQuantidadeCombustivel()"
   ]
  },
  {
   "cell_type": "code",
   "execution_count": null,
   "id": "a3349e1b",
   "metadata": {},
   "outputs": [],
   "source": []
  }
 ],
 "metadata": {
  "kernelspec": {
   "display_name": "Python 3",
   "language": "python",
   "name": "python3"
  },
  "language_info": {
   "codemirror_mode": {
    "name": "ipython",
    "version": 3
   },
   "file_extension": ".py",
   "mimetype": "text/x-python",
   "name": "python",
   "nbconvert_exporter": "python",
   "pygments_lexer": "ipython3",
   "version": "3.8.8"
  }
 },
 "nbformat": 4,
 "nbformat_minor": 5
}
