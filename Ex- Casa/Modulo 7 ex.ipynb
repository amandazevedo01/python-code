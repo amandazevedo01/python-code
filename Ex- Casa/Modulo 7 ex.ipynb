{
 "cells": [
  {
   "cell_type": "markdown",
   "id": "8d710522",
   "metadata": {},
   "source": [
    "# 1"
   ]
  },
  {
   "cell_type": "code",
   "execution_count": 2,
   "id": "66c37511",
   "metadata": {},
   "outputs": [
    {
     "data": {
      "text/plain": [
       "time.struct_time(tm_year=1970, tm_mon=1, tm_mday=1, tm_hour=0, tm_min=0, tm_sec=0, tm_wday=3, tm_yday=1, tm_isdst=0)"
      ]
     },
     "execution_count": 2,
     "metadata": {},
     "output_type": "execute_result"
    }
   ],
   "source": [
    "# a - epoca padrao\n",
    "import time\n",
    "time.gmtime(0)"
   ]
  },
  {
   "cell_type": "code",
   "execution_count": 3,
   "id": "c6b6932c",
   "metadata": {},
   "outputs": [
    {
     "name": "stdout",
     "output_type": "stream",
     "text": [
      "Segundos desde a época: 1658963542.5884788\n"
     ]
    }
   ],
   "source": [
    "# Tempo em segundos que se passaram desde uma época sendo seconds, um número float\n",
    "import time\n",
    "seconds = time.time()\n",
    "print(\"Segundos desde a época:\", seconds) \n"
   ]
  },
  {
   "cell_type": "code",
   "execution_count": 4,
   "id": "44214e6d",
   "metadata": {},
   "outputs": [
    {
     "name": "stdout",
     "output_type": "stream",
     "text": [
      "Tempo local: Wed Jul 27 20:12:41 2022\n"
     ]
    }
   ],
   "source": [
    "# imprime o tempo no momento\n",
    "print(\"Tempo local:\", time.asctime())"
   ]
  },
  {
   "cell_type": "code",
   "execution_count": 6,
   "id": "e849333a",
   "metadata": {},
   "outputs": [
    {
     "name": "stdout",
     "output_type": "stream",
     "text": [
      "time.struct_time(tm_year=2022, tm_mon=7, tm_mday=27, tm_hour=20, tm_min=13, tm_sec=0, tm_wday=2, tm_yday=208, tm_isdst=0)\n"
     ]
    }
   ],
   "source": [
    "print(time.localtime())"
   ]
  },
  {
   "cell_type": "code",
   "execution_count": 10,
   "id": "814bd1d3",
   "metadata": {},
   "outputs": [
    {
     "name": "stdout",
     "output_type": "stream",
     "text": [
      "Nao estamos em horario de verao\n"
     ]
    }
   ],
   "source": [
    "if (time.localtime().tm_isdst) == 0:\n",
    "    print('Nao estamos em horario de verao')\n",
    "else:\n",
    "    print(' estamos em horario de verao')\n",
    "      "
   ]
  },
  {
   "cell_type": "markdown",
   "id": "791619f6",
   "metadata": {},
   "source": [
    "# 2"
   ]
  },
  {
   "cell_type": "code",
   "execution_count": 15,
   "id": "09394003",
   "metadata": {},
   "outputs": [
    {
     "name": "stdout",
     "output_type": "stream",
     "text": [
      "Ola mundo\n",
      "Ola mundo\n",
      "Ola mundo\n",
      "Ola mundo\n",
      "Ola mundo\n"
     ]
    }
   ],
   "source": [
    "for c in range (0,5):\n",
    "    print('Ola mundo')\n",
    "    time.sleep(3)"
   ]
  },
  {
   "cell_type": "markdown",
   "id": "0c2c7292",
   "metadata": {},
   "source": [
    "# 3"
   ]
  },
  {
   "cell_type": "code",
   "execution_count": 19,
   "id": "c2ca4a01",
   "metadata": {},
   "outputs": [
    {
     "name": "stdout",
     "output_type": "stream",
     "text": [
      "Ola mundo\n",
      "Ola mundo\n",
      "Ola mundo\n",
      "Ola mundo\n",
      "Ola mundo\n",
      "Tempo decorrido: 697.2438283 682.2261654\n",
      "Tempo decorrido durante todo o programa, em segundos: 15.017662900000005\n"
     ]
    }
   ],
   "source": [
    "# Python program to show time by perf_counter()  \n",
    "from time import perf_counter \n",
    "t1_start = perf_counter()  \n",
    "\n",
    "for c in range (0,5):\n",
    "    print('Ola mundo')\n",
    "    time.sleep(3)  \n",
    "  \n",
    "# Stop the stopwatch / counter \n",
    "t1_stop = perf_counter() \n",
    "  \n",
    "print(\"Tempo decorrido:\", t1_stop, t1_start)  \n",
    "print(\"Tempo decorrido durante todo o programa, em segundos:\", t1_stop-t1_start) "
   ]
  },
  {
   "cell_type": "markdown",
   "id": "223cca8f",
   "metadata": {},
   "source": [
    "# 4"
   ]
  },
  {
   "cell_type": "code",
   "execution_count": 27,
   "id": "2229b4ef",
   "metadata": {},
   "outputs": [
    {
     "name": "stdout",
     "output_type": "stream",
     "text": [
      "2087-10-16 00:00:00\n",
      "2087-10-17 00:00:00\n",
      "2087-10-18 00:00:00\n",
      "2087-10-19 00:00:00\n",
      "2087-10-20 00:00:00\n",
      "2087-10-21 00:00:00\n",
      "2087-10-22 00:00:00\n",
      "2087-10-23 00:00:00\n",
      "2087-10-24 00:00:00\n",
      "2087-10-25 00:00:00\n"
     ]
    }
   ],
   "source": [
    "from datetime import datetime, timedelta\n",
    "\n",
    "# Definindo o tamanho de cada passo em dias\n",
    "day_delta = timedelta(days=1)\n",
    "\n",
    "start_date = datetime(2087, 10, 16)\n",
    "end_date = start_date + 10*day_delta\n",
    "\n",
    "for i in range((end_date - start_date).days):\n",
    "    print(start_date + i*day_delta)"
   ]
  },
  {
   "cell_type": "markdown",
   "id": "47d9cfa5",
   "metadata": {},
   "source": [
    "# 5"
   ]
  },
  {
   "cell_type": "code",
   "execution_count": 46,
   "id": "1d313373",
   "metadata": {},
   "outputs": [
    {
     "name": "stdout",
     "output_type": "stream",
     "text": [
      "2022-07-27 20:45:47.870419\n",
      "2022\n",
      "7\n",
      "27\n",
      "2\n",
      "7\n"
     ]
    }
   ],
   "source": [
    "y = datetime.now()\n",
    "print(y)\n",
    "print(y.year)\n",
    "print(y.month)\n",
    "print(y.day)\n",
    "print(time.localtime().tm_wday)\n",
    "print(time.localtime().tm_mon)\n"
   ]
  },
  {
   "cell_type": "code",
   "execution_count": 42,
   "id": "5ead6c87",
   "metadata": {},
   "outputs": [
    {
     "name": "stdout",
     "output_type": "stream",
     "text": [
      "Estamos na 30° semana\n"
     ]
    }
   ],
   "source": [
    "#Obter os dias\n",
    "primeiro = datetime(2022,1,1)\n",
    "hoje = datetime.today()\n",
    "#Ver quantos dias se passaram.\n",
    "dias = abs((hoje - primeiro).days)\n",
    "\n",
    "#Realizar a divisão por 7.\n",
    "#Caso a divisão retorne decimal, somar +1 para trazer a semana atual\n",
    "if dias%7 != 0:\n",
    "  semana = (dias//7)+1\n",
    "else:\n",
    "  semana = dias/7\n",
    "  \n",
    "print(f'Estamos na {semana}° semana')"
   ]
  },
  {
   "cell_type": "markdown",
   "id": "68c4622a",
   "metadata": {},
   "source": [
    "# 6"
   ]
  },
  {
   "cell_type": "code",
   "execution_count": 61,
   "id": "3208f8da",
   "metadata": {},
   "outputs": [
    {
     "data": {
      "text/plain": [
       "datetime.datetime(2019, 5, 13, 0, 0)"
      ]
     },
     "execution_count": 61,
     "metadata": {},
     "output_type": "execute_result"
    }
   ],
   "source": [
    "import locale\n",
    "locale.setlocale(locale.LC_ALL, 'pt_BR.utf8')\n",
    "from datetime import datetime\n",
    "datetime.strptime('13-Mai-2019', '%d-%b-%Y')\n"
   ]
  },
  {
   "cell_type": "markdown",
   "id": "ccfb8862",
   "metadata": {},
   "source": [
    "# 7"
   ]
  },
  {
   "cell_type": "code",
   "execution_count": 66,
   "id": "e8965f62",
   "metadata": {},
   "outputs": [
    {
     "name": "stdout",
     "output_type": "stream",
     "text": [
      "2021-01-17 00:00:00\n"
     ]
    }
   ],
   "source": [
    "day_delta = timedelta(days=-8)\n",
    "\n",
    "start_date = datetime(2021, 1, 25)\n",
    "end_date = start_date + 1*day_delta\n",
    "print(end_date)"
   ]
  },
  {
   "cell_type": "markdown",
   "id": "8d370660",
   "metadata": {},
   "source": [
    "# 8"
   ]
  },
  {
   "cell_type": "code",
   "execution_count": 69,
   "id": "80b90b8b",
   "metadata": {},
   "outputs": [
    {
     "name": "stdout",
     "output_type": "stream",
     "text": [
      "-10 days, 0:00:00\n"
     ]
    }
   ],
   "source": [
    "\n",
    "start_date = datetime(2021,1,20)\n",
    "end_date = datetime(2021,1,30)\n",
    "day_delta = start_date - end_date\n",
    "\n",
    "print(day_delta)"
   ]
  },
  {
   "cell_type": "markdown",
   "id": "1b0e0451",
   "metadata": {},
   "source": [
    "# 9"
   ]
  },
  {
   "cell_type": "code",
   "execution_count": 79,
   "id": "009e1e98",
   "metadata": {},
   "outputs": [
    {
     "name": "stdout",
     "output_type": "stream",
     "text": [
      "2022-07-25 21:25:30.549937\n"
     ]
    }
   ],
   "source": [
    "day_delta = timedelta(days=-2)\n",
    "\n",
    "antesdeontem_date = datetime.today()\n",
    "day_delta1 = antesdeontem_date + day_delta\n",
    "\n",
    "print(day_delta1)"
   ]
  },
  {
   "cell_type": "code",
   "execution_count": 84,
   "id": "605cf417",
   "metadata": {},
   "outputs": [
    {
     "name": "stdout",
     "output_type": "stream",
     "text": [
      "4 days, 0:01:20.609730\n"
     ]
    }
   ],
   "source": [
    "day_delta2 = timedelta(days=+2)\n",
    "\n",
    "depoisdeamanha_date = datetime.today()\n",
    "day_delta3 = depoisdeamanha_date + day_delta2\n",
    "\n",
    "day_delta4 =   day_delta3 - day_delta1\n",
    "\n",
    "\n",
    "print(day_delta4)"
   ]
  }
 ],
 "metadata": {
  "kernelspec": {
   "display_name": "Python 3",
   "language": "python",
   "name": "python3"
  },
  "language_info": {
   "codemirror_mode": {
    "name": "ipython",
    "version": 3
   },
   "file_extension": ".py",
   "mimetype": "text/x-python",
   "name": "python",
   "nbconvert_exporter": "python",
   "pygments_lexer": "ipython3",
   "version": "3.8.8"
  }
 },
 "nbformat": 4,
 "nbformat_minor": 5
}
