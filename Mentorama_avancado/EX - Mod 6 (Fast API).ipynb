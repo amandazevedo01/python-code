{
 "cells": [
  {
   "cell_type": "code",
   "execution_count": 1,
   "id": "37e9e06f",
   "metadata": {},
   "outputs": [],
   "source": [
    "from requests import get, post"
   ]
  },
  {
   "cell_type": "code",
   "execution_count": 6,
   "id": "903b6ccb",
   "metadata": {},
   "outputs": [],
   "source": [
    "resp = get('http://127.0.0.1:8000')"
   ]
  },
  {
   "cell_type": "code",
   "execution_count": 7,
   "id": "6e4c0653",
   "metadata": {},
   "outputs": [
    {
     "data": {
      "text/plain": [
       "'{\"message\":\"Hello world\"}'"
      ]
     },
     "execution_count": 7,
     "metadata": {},
     "output_type": "execute_result"
    }
   ],
   "source": [
    "resp.text"
   ]
  },
  {
   "cell_type": "code",
   "execution_count": 22,
   "id": "e43103b8",
   "metadata": {},
   "outputs": [],
   "source": [
    "resp = post('http://127.0.0.1:8000/novarota',json={'valor1':1,'valor2':6,'operacao':'soma'})"
   ]
  },
  {
   "cell_type": "code",
   "execution_count": 23,
   "id": "8bb9498c",
   "metadata": {},
   "outputs": [
    {
     "data": {
      "text/plain": [
       "'7'"
      ]
     },
     "execution_count": 23,
     "metadata": {},
     "output_type": "execute_result"
    }
   ],
   "source": [
    "resp.text"
   ]
  },
  {
   "cell_type": "code",
   "execution_count": 24,
   "id": "c19c9bae",
   "metadata": {},
   "outputs": [
    {
     "data": {
      "text/plain": [
       "'-5'"
      ]
     },
     "execution_count": 24,
     "metadata": {},
     "output_type": "execute_result"
    }
   ],
   "source": [
    "resp = post('http://127.0.0.1:8000/novarota',json={'valor1':1,'valor2':6,'operacao':'subtracao'})\n",
    "resp.text"
   ]
  },
  {
   "cell_type": "code",
   "execution_count": 25,
   "id": "657b67bc",
   "metadata": {},
   "outputs": [
    {
     "data": {
      "text/plain": [
       "'6'"
      ]
     },
     "execution_count": 25,
     "metadata": {},
     "output_type": "execute_result"
    }
   ],
   "source": [
    "resp = post('http://127.0.0.1:8000/novarota',json={'valor1':1,'valor2':6,'operacao':'multiplicacao'})\n",
    "resp.text"
   ]
  },
  {
   "cell_type": "code",
   "execution_count": 26,
   "id": "ce24b45a",
   "metadata": {},
   "outputs": [
    {
     "data": {
      "text/plain": [
       "'0.16666666666666666'"
      ]
     },
     "execution_count": 26,
     "metadata": {},
     "output_type": "execute_result"
    }
   ],
   "source": [
    "resp = post('http://127.0.0.1:8000/novarota',json={'valor1':1,'valor2':6,'operacao':'divisao'})\n",
    "resp.text"
   ]
  },
  {
   "cell_type": "code",
   "execution_count": null,
   "id": "57bae1e9",
   "metadata": {},
   "outputs": [],
   "source": []
  }
 ],
 "metadata": {
  "kernelspec": {
   "display_name": "Python 3 (ipykernel)",
   "language": "python",
   "name": "python3"
  },
  "language_info": {
   "codemirror_mode": {
    "name": "ipython",
    "version": 3
   },
   "file_extension": ".py",
   "mimetype": "text/x-python",
   "name": "python",
   "nbconvert_exporter": "python",
   "pygments_lexer": "ipython3",
   "version": "3.9.12"
  }
 },
 "nbformat": 4,
 "nbformat_minor": 5
}
