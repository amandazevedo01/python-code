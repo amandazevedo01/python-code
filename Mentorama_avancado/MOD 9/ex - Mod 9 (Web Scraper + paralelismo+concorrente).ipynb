{
 "cells": [
  {
   "cell_type": "markdown",
   "id": "37df7e9c",
   "metadata": {},
   "source": [
    "# CONCORRENCIA"
   ]
  },
  {
   "cell_type": "code",
   "execution_count": 27,
   "id": "aafa43bb",
   "metadata": {},
   "outputs": [],
   "source": [
    "from requests import get, post\n",
    "from bs4 import BeautifulSoup\n",
    "import  html5lib\n",
    "from threading import Thread\n",
    "from time import time, sleep"
   ]
  },
  {
   "cell_type": "code",
   "execution_count": 24,
   "id": "2e8fdd8a",
   "metadata": {},
   "outputs": [],
   "source": [
    "def url(link):\n",
    "    print(link)\n",
    "    resposta = get(link)\n",
    "    print(resposta.ok)\n",
    "    tags = BeautifulSoup(resposta.text, \"html5lib\")\n",
    "    title = tags.find('title')\n",
    "    print(f' PAGINA PRINCIPAL: {title.text}')\n",
    "    subtitle2 = tags.find_all( \"div\", {\"class\": \"hatnote\"})\n",
    "    [h2.text for h2 in subtitle2]\n",
    "    para_visitar = [link + h2.a[\"href\"] for h2 in subtitle2]\n",
    "    print(para_visitar)\n",
    "    sites = []\n",
    "    for pv in para_visitar:\n",
    "        acesso = get(pv)\n",
    "        sites.append(acesso)\n",
    "        print(f' PAGINA secundária: {title.text} - status: {sites}')\n",
    "\n",
    "\n",
    "    "
   ]
  },
  {
   "cell_type": "code",
   "execution_count": 28,
   "id": "b2017c38",
   "metadata": {
    "collapsed": true
   },
   "outputs": [
    {
     "name": "stdout",
     "output_type": "stream",
     "text": [
      "https://pt.wikipedia.org/wiki/Mortes_em_2022\n",
      "https://pt.wikipedia.org/wiki/Mortes_em_2021\n",
      "https://pt.wikipedia.org/wiki/Mortes_em_2020\n",
      "True\n",
      " PAGINA PRINCIPAL: Mortes em 2020 – Wikipédia, a enciclopédia livre\n",
      "['https://pt.wikipedia.org/wiki/Mortes_em_2020/wiki/Mortes_em_janeiro_de_2020', 'https://pt.wikipedia.org/wiki/Mortes_em_2020/wiki/Mortes_em_fevereiro_de_2020', 'https://pt.wikipedia.org/wiki/Mortes_em_2020/wiki/Mortes_em_mar%C3%A7o_de_2020', 'https://pt.wikipedia.org/wiki/Mortes_em_2020/wiki/Mortes_em_abril_de_2020', 'https://pt.wikipedia.org/wiki/Mortes_em_2020/wiki/Mortes_em_maio_de_2020', 'https://pt.wikipedia.org/wiki/Mortes_em_2020/wiki/Mortes_em_junho_de_2020', 'https://pt.wikipedia.org/wiki/Mortes_em_2020/wiki/Mortes_em_julho_de_2020', 'https://pt.wikipedia.org/wiki/Mortes_em_2020/wiki/Mortes_em_agosto_de_2020', 'https://pt.wikipedia.org/wiki/Mortes_em_2020/wiki/Mortes_em_setembro_de_2020', 'https://pt.wikipedia.org/wiki/Mortes_em_2020/wiki/Mortes_em_outubro_de_2020', 'https://pt.wikipedia.org/wiki/Mortes_em_2020/wiki/Mortes_em_novembro_de_2020', 'https://pt.wikipedia.org/wiki/Mortes_em_2020/wiki/Mortes_em_dezembro_de_2020']\n",
      "True\n",
      "True\n",
      " PAGINA PRINCIPAL: Mortes em 2022 – Wikipédia, a enciclopédia livre\n",
      "['https://pt.wikipedia.org/wiki/Mortes_em_2022/wiki/Mortes_em_janeiro_de_2022', 'https://pt.wikipedia.org/wiki/Mortes_em_2022/wiki/Mortes_em_fevereiro_de_2022', 'https://pt.wikipedia.org/wiki/Mortes_em_2022/wiki/Mortes_em_mar%C3%A7o_de_2022', 'https://pt.wikipedia.org/wiki/Mortes_em_2022/wiki/Mortes_em_abril_de_2022', 'https://pt.wikipedia.org/wiki/Mortes_em_2022/wiki/Mortes_em_maio_de_2022', 'https://pt.wikipedia.org/wiki/Mortes_em_2022/wiki/Mortes_em_junho_de_2022', 'https://pt.wikipedia.org/wiki/Mortes_em_2022/wiki/Mortes_em_julho_de_2022', 'https://pt.wikipedia.org/wiki/Mortes_em_2022/wiki/Mortes_em_agosto_de_2022', 'https://pt.wikipedia.org/wiki/Mortes_em_2022/wiki/Mortes_em_setembro_de_2022', 'https://pt.wikipedia.org/wiki/Mortes_em_2022/w/index.php?title=Mortes_em_outubro_de_2022&action=edit&redlink=1', 'https://pt.wikipedia.org/wiki/Mortes_em_2022/w/index.php?title=Mortes_em_novembro_de_2022&action=edit&redlink=1', 'https://pt.wikipedia.org/wiki/Mortes_em_2022/w/index.php?title=Mortes_em_dezembro_de_2022&action=edit&redlink=1']\n",
      " PAGINA PRINCIPAL: Mortes em 2021 – Wikipédia, a enciclopédia livre\n",
      "['https://pt.wikipedia.org/wiki/Mortes_em_2021/wiki/Mortes_em_janeiro_de_2021', 'https://pt.wikipedia.org/wiki/Mortes_em_2021/wiki/Mortes_em_fevereiro_de_2021', 'https://pt.wikipedia.org/wiki/Mortes_em_2021/wiki/Mortes_em_mar%C3%A7o_de_2021', 'https://pt.wikipedia.org/wiki/Mortes_em_2021/wiki/Mortes_em_abril_de_2021', 'https://pt.wikipedia.org/wiki/Mortes_em_2021/wiki/Mortes_em_maio_de_2021', 'https://pt.wikipedia.org/wiki/Mortes_em_2021/wiki/Mortes_em_junho_de_2021', 'https://pt.wikipedia.org/wiki/Mortes_em_2021/wiki/Mortes_em_julho_de_2021', 'https://pt.wikipedia.org/wiki/Mortes_em_2021/wiki/Mortes_em_agosto_de_2021', 'https://pt.wikipedia.org/wiki/Mortes_em_2021/wiki/Mortes_em_setembro_de_2021', 'https://pt.wikipedia.org/wiki/Mortes_em_2021/wiki/Mortes_em_outubro_de_2021', 'https://pt.wikipedia.org/wiki/Mortes_em_2021/wiki/Mortes_em_novembro_de_2021', 'https://pt.wikipedia.org/wiki/Mortes_em_2021/wiki/Mortes_em_dezembro_de_2021']\n",
      " PAGINA secundária: Mortes em 2022 – Wikipédia, a enciclopédia livre - status: [<Response [404]>]\n",
      " PAGINA secundária: Mortes em 2020 – Wikipédia, a enciclopédia livre - status: [<Response [404]>]\n",
      " PAGINA secundária: Mortes em 2021 – Wikipédia, a enciclopédia livre - status: [<Response [404]>]\n",
      " PAGINA secundária: Mortes em 2022 – Wikipédia, a enciclopédia livre - status: [<Response [404]>, <Response [404]>]\n",
      " PAGINA secundária: Mortes em 2020 – Wikipédia, a enciclopédia livre - status: [<Response [404]>, <Response [404]>]\n",
      " PAGINA secundária: Mortes em 2021 – Wikipédia, a enciclopédia livre - status: [<Response [404]>, <Response [404]>]\n",
      " PAGINA secundária: Mortes em 2022 – Wikipédia, a enciclopédia livre - status: [<Response [404]>, <Response [404]>, <Response [404]>]\n",
      " PAGINA secundária: Mortes em 2021 – Wikipédia, a enciclopédia livre - status: [<Response [404]>, <Response [404]>, <Response [404]>]\n",
      " PAGINA secundária: Mortes em 2022 – Wikipédia, a enciclopédia livre - status: [<Response [404]>, <Response [404]>, <Response [404]>, <Response [404]>]\n",
      " PAGINA secundária: Mortes em 2022 – Wikipédia, a enciclopédia livre - status: [<Response [404]>, <Response [404]>, <Response [404]>, <Response [404]>, <Response [404]>]\n",
      " PAGINA secundária: Mortes em 2021 – Wikipédia, a enciclopédia livre - status: [<Response [404]>, <Response [404]>, <Response [404]>, <Response [404]>]\n",
      " PAGINA secundária: Mortes em 2022 – Wikipédia, a enciclopédia livre - status: [<Response [404]>, <Response [404]>, <Response [404]>, <Response [404]>, <Response [404]>, <Response [404]>]\n",
      " PAGINA secundária: Mortes em 2020 – Wikipédia, a enciclopédia livre - status: [<Response [404]>, <Response [404]>, <Response [404]>]\n",
      " PAGINA secundária: Mortes em 2021 – Wikipédia, a enciclopédia livre - status: [<Response [404]>, <Response [404]>, <Response [404]>, <Response [404]>, <Response [404]>]\n",
      " PAGINA secundária: Mortes em 2022 – Wikipédia, a enciclopédia livre - status: [<Response [404]>, <Response [404]>, <Response [404]>, <Response [404]>, <Response [404]>, <Response [404]>, <Response [404]>]\n",
      " PAGINA secundária: Mortes em 2020 – Wikipédia, a enciclopédia livre - status: [<Response [404]>, <Response [404]>, <Response [404]>, <Response [404]>]\n",
      " PAGINA secundária: Mortes em 2021 – Wikipédia, a enciclopédia livre - status: [<Response [404]>, <Response [404]>, <Response [404]>, <Response [404]>, <Response [404]>, <Response [404]>]\n",
      " PAGINA secundária: Mortes em 2020 – Wikipédia, a enciclopédia livre - status: [<Response [404]>, <Response [404]>, <Response [404]>, <Response [404]>, <Response [404]>]\n",
      " PAGINA secundária: Mortes em 2021 – Wikipédia, a enciclopédia livre - status: [<Response [404]>, <Response [404]>, <Response [404]>, <Response [404]>, <Response [404]>, <Response [404]>, <Response [404]>]\n",
      " PAGINA secundária: Mortes em 2020 – Wikipédia, a enciclopédia livre - status: [<Response [404]>, <Response [404]>, <Response [404]>, <Response [404]>, <Response [404]>, <Response [404]>]\n",
      " PAGINA secundária: Mortes em 2022 – Wikipédia, a enciclopédia livre - status: [<Response [404]>, <Response [404]>, <Response [404]>, <Response [404]>, <Response [404]>, <Response [404]>, <Response [404]>, <Response [404]>]\n",
      " PAGINA secundária: Mortes em 2021 – Wikipédia, a enciclopédia livre - status: [<Response [404]>, <Response [404]>, <Response [404]>, <Response [404]>, <Response [404]>, <Response [404]>, <Response [404]>, <Response [404]>]\n",
      " PAGINA secundária: Mortes em 2022 – Wikipédia, a enciclopédia livre - status: [<Response [404]>, <Response [404]>, <Response [404]>, <Response [404]>, <Response [404]>, <Response [404]>, <Response [404]>, <Response [404]>, <Response [404]>] PAGINA secundária: Mortes em 2020 – Wikipédia, a enciclopédia livre - status: [<Response [404]>, <Response [404]>, <Response [404]>, <Response [404]>, <Response [404]>, <Response [404]>, <Response [404]>]\n",
      "\n",
      " PAGINA secundária: Mortes em 2021 – Wikipédia, a enciclopédia livre - status: [<Response [404]>, <Response [404]>, <Response [404]>, <Response [404]>, <Response [404]>, <Response [404]>, <Response [404]>, <Response [404]>, <Response [404]>]\n",
      " PAGINA secundária: Mortes em 2022 – Wikipédia, a enciclopédia livre - status: [<Response [404]>, <Response [404]>, <Response [404]>, <Response [404]>, <Response [404]>, <Response [404]>, <Response [404]>, <Response [404]>, <Response [404]>, <Response [200]>]\n",
      " PAGINA secundária: Mortes em 2020 – Wikipédia, a enciclopédia livre - status: [<Response [404]>, <Response [404]>, <Response [404]>, <Response [404]>, <Response [404]>, <Response [404]>, <Response [404]>, <Response [404]>]\n",
      " PAGINA secundária: Mortes em 2021 – Wikipédia, a enciclopédia livre - status: [<Response [404]>, <Response [404]>, <Response [404]>, <Response [404]>, <Response [404]>, <Response [404]>, <Response [404]>, <Response [404]>, <Response [404]>, <Response [404]>]\n",
      " PAGINA secundária: Mortes em 2022 – Wikipédia, a enciclopédia livre - status: [<Response [404]>, <Response [404]>, <Response [404]>, <Response [404]>, <Response [404]>, <Response [404]>, <Response [404]>, <Response [404]>, <Response [404]>, <Response [200]>, <Response [200]>]\n",
      " PAGINA secundária: Mortes em 2020 – Wikipédia, a enciclopédia livre - status: [<Response [404]>, <Response [404]>, <Response [404]>, <Response [404]>, <Response [404]>, <Response [404]>, <Response [404]>, <Response [404]>, <Response [404]>]\n"
     ]
    },
    {
     "name": "stdout",
     "output_type": "stream",
     "text": [
      " PAGINA secundária: Mortes em 2021 – Wikipédia, a enciclopédia livre - status: [<Response [404]>, <Response [404]>, <Response [404]>, <Response [404]>, <Response [404]>, <Response [404]>, <Response [404]>, <Response [404]>, <Response [404]>, <Response [404]>, <Response [404]>]\n",
      " PAGINA secundária: Mortes em 2022 – Wikipédia, a enciclopédia livre - status: [<Response [404]>, <Response [404]>, <Response [404]>, <Response [404]>, <Response [404]>, <Response [404]>, <Response [404]>, <Response [404]>, <Response [404]>, <Response [200]>, <Response [200]>, <Response [200]>]\n",
      " PAGINA secundária: Mortes em 2020 – Wikipédia, a enciclopédia livre - status: [<Response [404]>, <Response [404]>, <Response [404]>, <Response [404]>, <Response [404]>, <Response [404]>, <Response [404]>, <Response [404]>, <Response [404]>, <Response [404]>]\n",
      " PAGINA secundária: Mortes em 2021 – Wikipédia, a enciclopédia livre - status: [<Response [404]>, <Response [404]>, <Response [404]>, <Response [404]>, <Response [404]>, <Response [404]>, <Response [404]>, <Response [404]>, <Response [404]>, <Response [404]>, <Response [404]>, <Response [404]>]\n",
      " PAGINA secundária: Mortes em 2020 – Wikipédia, a enciclopédia livre - status: [<Response [404]>, <Response [404]>, <Response [404]>, <Response [404]>, <Response [404]>, <Response [404]>, <Response [404]>, <Response [404]>, <Response [404]>, <Response [404]>, <Response [404]>]\n",
      " PAGINA secundária: Mortes em 2020 – Wikipédia, a enciclopédia livre - status: [<Response [404]>, <Response [404]>, <Response [404]>, <Response [404]>, <Response [404]>, <Response [404]>, <Response [404]>, <Response [404]>, <Response [404]>, <Response [404]>, <Response [404]>, <Response [404]>]\n",
      "Tempo total para execucao: 7 segundos\n"
     ]
    }
   ],
   "source": [
    "inicio = time()\n",
    "resultado1 = Thread(target=url,args=['https://pt.wikipedia.org/wiki/Mortes_em_2022'])\n",
    "resultado2 = Thread(target=url,args=['https://pt.wikipedia.org/wiki/Mortes_em_2021'])\n",
    "resultado3= Thread(target=url,args=['https://pt.wikipedia.org/wiki/Mortes_em_2019'])\n",
    "resultado3= Thread(target=url,args=['https://pt.wikipedia.org/wiki/Mortes_em_2018'])\n",
    "resultado3= Thread(target=url,args=['https://pt.wikipedia.org/wiki/Mortes_em_2017'])\n",
    "resultado3= Thread(target=url,args=['https://pt.wikipedia.org/wiki/Mortes_em_2016'])\n",
    "\n",
    "\n",
    "\n",
    "resultado1.start()\n",
    "resultado2.start()\n",
    "resultado3.start()\n",
    "\n",
    "resultado1.join()\n",
    "resultado2.join()\n",
    "resultado3.join()\n",
    "\n",
    "\n",
    "\n",
    "termino = time()\n",
    "print(f'Tempo total para execucao: {abs(int(inicio-termino))} segundos')"
   ]
  },
  {
   "cell_type": "markdown",
   "id": "14fa861e",
   "metadata": {},
   "source": [
    "# PARELISMO"
   ]
  },
  {
   "cell_type": "code",
   "execution_count": null,
   "id": "8e49b879",
   "metadata": {},
   "outputs": [
    {
     "name": "stdout",
     "output_type": "stream",
     "text": [
      "https://pt.wikipedia.org/wiki/Mortes_em_2022\n",
      "True\n",
      " PAGINA PRINCIPAL: Mortes em 2022 – Wikipédia, a enciclopédia livre\n",
      "['https://pt.wikipedia.org/wiki/Mortes_em_2022/wiki/Mortes_em_janeiro_de_2022', 'https://pt.wikipedia.org/wiki/Mortes_em_2022/wiki/Mortes_em_fevereiro_de_2022', 'https://pt.wikipedia.org/wiki/Mortes_em_2022/wiki/Mortes_em_mar%C3%A7o_de_2022', 'https://pt.wikipedia.org/wiki/Mortes_em_2022/wiki/Mortes_em_abril_de_2022', 'https://pt.wikipedia.org/wiki/Mortes_em_2022/wiki/Mortes_em_maio_de_2022', 'https://pt.wikipedia.org/wiki/Mortes_em_2022/wiki/Mortes_em_junho_de_2022', 'https://pt.wikipedia.org/wiki/Mortes_em_2022/wiki/Mortes_em_julho_de_2022', 'https://pt.wikipedia.org/wiki/Mortes_em_2022/wiki/Mortes_em_agosto_de_2022', 'https://pt.wikipedia.org/wiki/Mortes_em_2022/wiki/Mortes_em_setembro_de_2022', 'https://pt.wikipedia.org/wiki/Mortes_em_2022/w/index.php?title=Mortes_em_outubro_de_2022&action=edit&redlink=1', 'https://pt.wikipedia.org/wiki/Mortes_em_2022/w/index.php?title=Mortes_em_novembro_de_2022&action=edit&redlink=1', 'https://pt.wikipedia.org/wiki/Mortes_em_2022/w/index.php?title=Mortes_em_dezembro_de_2022&action=edit&redlink=1']\n",
      " PAGINA secundária: Mortes em 2022 – Wikipédia, a enciclopédia livre - status: [<Response [404]>]\n",
      " PAGINA secundária: Mortes em 2022 – Wikipédia, a enciclopédia livre - status: [<Response [404]>, <Response [404]>]\n",
      " PAGINA secundária: Mortes em 2022 – Wikipédia, a enciclopédia livre - status: [<Response [404]>, <Response [404]>, <Response [404]>]\n",
      " PAGINA secundária: Mortes em 2022 – Wikipédia, a enciclopédia livre - status: [<Response [404]>, <Response [404]>, <Response [404]>, <Response [404]>]\n"
     ]
    }
   ],
   "source": [
    "from multiprocessing import Pool\n",
    "from requests import get\n",
    "\n",
    "\n",
    "def scrapper(link):\n",
    "    print(link)\n",
    "    resposta = get(link)\n",
    "    print(resposta.ok)\n",
    "    tags = BeautifulSoup(resposta.text, \"html5lib\")\n",
    "    title = tags.find('title')\n",
    "    print(f' PAGINA PRINCIPAL: {title.text}')\n",
    "    subtitle2 = tags.find_all( \"div\", {\"class\": \"hatnote\"})\n",
    "    [h2.text for h2 in subtitle2]\n",
    "    para_visitar = [link + h2.a[\"href\"] for h2 in subtitle2]\n",
    "    print(para_visitar)\n",
    "    sites = []\n",
    "    for pv in para_visitar:\n",
    "        acesso = get(pv)\n",
    "        sites.append(acesso)\n",
    "        print(f' PAGINA secundária: {title.text} - status: {sites}')\n",
    "\n",
    "\n",
    "scrapper('https://pt.wikipedia.org/wiki/Mortes_em_2022')\n",
    "    \n",
    "\n",
    "p = Pool(20)\n",
    "p.map(scrapper)\n",
    "p.terminate()\n",
    "p.join()\n"
   ]
  },
  {
   "cell_type": "code",
   "execution_count": null,
   "id": "6c88885f",
   "metadata": {},
   "outputs": [],
   "source": []
  }
 ],
 "metadata": {
  "kernelspec": {
   "display_name": "Python 3 (ipykernel)",
   "language": "python",
   "name": "python3"
  },
  "language_info": {
   "codemirror_mode": {
    "name": "ipython",
    "version": 3
   },
   "file_extension": ".py",
   "mimetype": "text/x-python",
   "name": "python",
   "nbconvert_exporter": "python",
   "pygments_lexer": "ipython3",
   "version": "3.9.12"
  }
 },
 "nbformat": 4,
 "nbformat_minor": 5
}
