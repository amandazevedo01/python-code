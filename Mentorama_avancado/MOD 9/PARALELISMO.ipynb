{
 "cells": [
  {
   "cell_type": "markdown",
   "id": "6ad8bdc1",
   "metadata": {},
   "source": [
    "## Vamos comecar criando um exemplo simples"
   ]
  },
  {
   "cell_type": "code",
   "execution_count": 1,
   "id": "15434f5c",
   "metadata": {},
   "outputs": [],
   "source": [
    "from multiprocessing import Process"
   ]
  },
  {
   "cell_type": "code",
   "execution_count": 2,
   "id": "3bbc2721",
   "metadata": {},
   "outputs": [],
   "source": [
    "def teste(ordem):\n",
    "    print(ordem)\n",
    "    pass"
   ]
  },
  {
   "cell_type": "code",
   "execution_count": 3,
   "id": "4bb025fd",
   "metadata": {},
   "outputs": [],
   "source": [
    "for i in range(5):\n",
    "    p = Process(target=teste,args=(i,))\n",
    "    p.start()"
   ]
  },
  {
   "cell_type": "markdown",
   "id": "3d2ec95d",
   "metadata": {},
   "source": [
    "## vamos verfificar quantas cpus este computador possui para processar o algoritimo"
   ]
  },
  {
   "cell_type": "code",
   "execution_count": 4,
   "id": "c0b68842",
   "metadata": {},
   "outputs": [],
   "source": [
    "from multiprocessing import cpu_count"
   ]
  },
  {
   "cell_type": "code",
   "execution_count": 5,
   "id": "fd674516",
   "metadata": {},
   "outputs": [
    {
     "data": {
      "text/plain": [
       "12"
      ]
     },
     "execution_count": 5,
     "metadata": {},
     "output_type": "execute_result"
    }
   ],
   "source": [
    "cpu_count()"
   ]
  },
  {
   "cell_type": "markdown",
   "id": "266312b7",
   "metadata": {},
   "source": [
    "## Vamos agora criar uma fila de execucao de processos"
   ]
  },
  {
   "cell_type": "code",
   "execution_count": 6,
   "id": "a067763a",
   "metadata": {},
   "outputs": [],
   "source": [
    "from multiprocessing import Queue"
   ]
  },
  {
   "cell_type": "code",
   "execution_count": 7,
   "id": "f2aa7877",
   "metadata": {},
   "outputs": [],
   "source": [
    "queue = Queue()"
   ]
  },
  {
   "cell_type": "code",
   "execution_count": 8,
   "id": "242d819d",
   "metadata": {},
   "outputs": [
    {
     "name": "stdout",
     "output_type": "stream",
     "text": [
      "1\n",
      "2\n"
     ]
    }
   ],
   "source": [
    "[queue.put(n) for n in [1,2,3,4,5,6,7,8,9]]\n",
    "while not queue.empty():\n",
    "    print(queue.get())\n",
    "    pass"
   ]
  },
  {
   "cell_type": "markdown",
   "id": "5ff75666",
   "metadata": {},
   "source": [
    "### Utilizando um pool de tarefas para serem procedssadas"
   ]
  },
  {
   "cell_type": "code",
   "execution_count": 10,
   "id": "107381d6",
   "metadata": {},
   "outputs": [],
   "source": [
    "from multiprocessing import Pool\n",
    "from time import sleep"
   ]
  },
  {
   "cell_type": "code",
   "execution_count": null,
   "id": "0d20509f",
   "metadata": {},
   "outputs": [],
   "source": [
    "def work_log(each):\n",
    "    print(f'Process{each[0]} waintg {each[1]} seconds')\n",
    "    sleep(int(each[1]))\n",
    "    print(f'Process {each[0]} Finished')\n",
    "    \n",
    "pool = Pool(2)\n",
    "pool.map(work_log, (['A',5], ['B',2],['C',1],['D',3]))\n",
    "pass\n"
   ]
  },
  {
   "cell_type": "markdown",
   "id": "4ca7f5a3",
   "metadata": {},
   "source": [
    "# agora vamos criar uma pool de requisicao para uma webscraping"
   ]
  },
  {
   "cell_type": "code",
   "execution_count": null,
   "id": "821836f5",
   "metadata": {},
   "outputs": [],
   "source": [
    "from multiprocessing import Pool\n",
    "from requests import get\n",
    "\n",
    "def scrapper(url):\n",
    "    res= et(url)\n",
    "    I_got_a = res.json()\n",
    "    print(I_got_a['name'], I_got_a['id'])\n",
    "    \n",
    "urls = [f\"https://pokeapi.co/api/v2/pokemon/{pokemon}\" for pokemon in range(1,501)]\n",
    "\n",
    "pool = Pool(20)\n",
    "pool.map(scrapper,urls)\n",
    "p.terminate()\n",
    "p.join()\n",
    "pass"
   ]
  }
 ],
 "metadata": {
  "kernelspec": {
   "display_name": "Python 3 (ipykernel)",
   "language": "python",
   "name": "python3"
  },
  "language_info": {
   "codemirror_mode": {
    "name": "ipython",
    "version": 3
   },
   "file_extension": ".py",
   "mimetype": "text/x-python",
   "name": "python",
   "nbconvert_exporter": "python",
   "pygments_lexer": "ipython3",
   "version": "3.9.12"
  }
 },
 "nbformat": 4,
 "nbformat_minor": 5
}
